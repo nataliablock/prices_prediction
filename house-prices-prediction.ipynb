{
 "cells": [
  {
   "cell_type": "markdown",
   "metadata": {},
   "source": [
    "# Predicting House Prices"
   ]
  },
  {
   "cell_type": "markdown",
   "metadata": {},
   "source": [
    "## Objectives"
   ]
  },
  {
   "cell_type": "markdown",
   "metadata": {},
   "source": [
    "Predict sales prices of residential homes in Ames, Iowa. Practice feature engineering with RFE and regression techiques like OLS and regularization (Lasso Regression). I am using the [Ames Housing dataset](https://www.kaggle.com/c/house-prices-advanced-regression-techniques/overview) available on Kaggle. "
   ]
  },
  {
   "cell_type": "code",
   "execution_count": 1,
   "metadata": {},
   "outputs": [
    {
     "name": "stderr",
     "output_type": "stream",
     "text": [
      "/Users/nataliablock/anaconda3/lib/python3.7/site-packages/statsmodels/tools/_testing.py:19: FutureWarning: pandas.util.testing is deprecated. Use the functions in the public API at pandas.testing instead.\n",
      "  import pandas.util.testing as tm\n",
      "/Users/nataliablock/anaconda3/lib/python3.7/site-packages/statsmodels/compat/pandas.py:23: FutureWarning: The Panel class is removed from pandas. Accessing it from the top-level namespace will also be removed in the next version\n",
      "  data_klasses = (pandas.Series, pandas.DataFrame, pandas.Panel)\n"
     ]
    }
   ],
   "source": [
    "#Imports\n",
    "\n",
    "import numpy as np\n",
    "import pandas as pd\n",
    "import matplotlib.pyplot as plt\n",
    "import matplotlib as mpl\n",
    "import seaborn as sns\n",
    "from scipy import stats\n",
    "import statsmodels.api as sm\n",
    "from sklearn.linear_model import LinearRegression, LassoCV\n",
    "from sklearn.preprocessing import StandardScaler\n",
    "from sklearn.preprocessing import OrdinalEncoder\n",
    "from sklearn.feature_selection import RFECV\n",
    "from sklearn.model_selection import cross_val_score\n",
    "from sklearn.metrics import r2_score\n",
    "import warnings\n",
    "warnings.filterwarnings(\"ignore\")\n",
    "%matplotlib inline "
   ]
  },
  {
   "cell_type": "markdown",
   "metadata": {},
   "source": [
    "## Loading data"
   ]
  },
  {
   "cell_type": "code",
   "execution_count": 2,
   "metadata": {},
   "outputs": [],
   "source": [
    "#Loading train dataset\n",
    "train=pd.read_csv('train.csv')"
   ]
  },
  {
   "cell_type": "code",
   "execution_count": 3,
   "metadata": {},
   "outputs": [
    {
     "name": "stdout",
     "output_type": "stream",
     "text": [
      "\n",
      " Train dataset dimensions (1460, 81)\n",
      "<class 'pandas.core.frame.DataFrame'>\n",
      "RangeIndex: 1460 entries, 0 to 1459\n",
      "Data columns (total 81 columns):\n",
      " #   Column         Non-Null Count  Dtype  \n",
      "---  ------         --------------  -----  \n",
      " 0   Id             1460 non-null   int64  \n",
      " 1   MSSubClass     1460 non-null   int64  \n",
      " 2   MSZoning       1460 non-null   object \n",
      " 3   LotFrontage    1201 non-null   float64\n",
      " 4   LotArea        1460 non-null   int64  \n",
      " 5   Street         1460 non-null   object \n",
      " 6   Alley          91 non-null     object \n",
      " 7   LotShape       1460 non-null   object \n",
      " 8   LandContour    1460 non-null   object \n",
      " 9   Utilities      1460 non-null   object \n",
      " 10  LotConfig      1460 non-null   object \n",
      " 11  LandSlope      1460 non-null   object \n",
      " 12  Neighborhood   1460 non-null   object \n",
      " 13  Condition1     1460 non-null   object \n",
      " 14  Condition2     1460 non-null   object \n",
      " 15  BldgType       1460 non-null   object \n",
      " 16  HouseStyle     1460 non-null   object \n",
      " 17  OverallQual    1460 non-null   int64  \n",
      " 18  OverallCond    1460 non-null   int64  \n",
      " 19  YearBuilt      1460 non-null   int64  \n",
      " 20  YearRemodAdd   1460 non-null   int64  \n",
      " 21  RoofStyle      1460 non-null   object \n",
      " 22  RoofMatl       1460 non-null   object \n",
      " 23  Exterior1st    1460 non-null   object \n",
      " 24  Exterior2nd    1460 non-null   object \n",
      " 25  MasVnrType     1452 non-null   object \n",
      " 26  MasVnrArea     1452 non-null   float64\n",
      " 27  ExterQual      1460 non-null   object \n",
      " 28  ExterCond      1460 non-null   object \n",
      " 29  Foundation     1460 non-null   object \n",
      " 30  BsmtQual       1423 non-null   object \n",
      " 31  BsmtCond       1423 non-null   object \n",
      " 32  BsmtExposure   1422 non-null   object \n",
      " 33  BsmtFinType1   1423 non-null   object \n",
      " 34  BsmtFinSF1     1460 non-null   int64  \n",
      " 35  BsmtFinType2   1422 non-null   object \n",
      " 36  BsmtFinSF2     1460 non-null   int64  \n",
      " 37  BsmtUnfSF      1460 non-null   int64  \n",
      " 38  TotalBsmtSF    1460 non-null   int64  \n",
      " 39  Heating        1460 non-null   object \n",
      " 40  HeatingQC      1460 non-null   object \n",
      " 41  CentralAir     1460 non-null   object \n",
      " 42  Electrical     1459 non-null   object \n",
      " 43  1stFlrSF       1460 non-null   int64  \n",
      " 44  2ndFlrSF       1460 non-null   int64  \n",
      " 45  LowQualFinSF   1460 non-null   int64  \n",
      " 46  GrLivArea      1460 non-null   int64  \n",
      " 47  BsmtFullBath   1460 non-null   int64  \n",
      " 48  BsmtHalfBath   1460 non-null   int64  \n",
      " 49  FullBath       1460 non-null   int64  \n",
      " 50  HalfBath       1460 non-null   int64  \n",
      " 51  BedroomAbvGr   1460 non-null   int64  \n",
      " 52  KitchenAbvGr   1460 non-null   int64  \n",
      " 53  KitchenQual    1460 non-null   object \n",
      " 54  TotRmsAbvGrd   1460 non-null   int64  \n",
      " 55  Functional     1460 non-null   object \n",
      " 56  Fireplaces     1460 non-null   int64  \n",
      " 57  FireplaceQu    770 non-null    object \n",
      " 58  GarageType     1379 non-null   object \n",
      " 59  GarageYrBlt    1379 non-null   float64\n",
      " 60  GarageFinish   1379 non-null   object \n",
      " 61  GarageCars     1460 non-null   int64  \n",
      " 62  GarageArea     1460 non-null   int64  \n",
      " 63  GarageQual     1379 non-null   object \n",
      " 64  GarageCond     1379 non-null   object \n",
      " 65  PavedDrive     1460 non-null   object \n",
      " 66  WoodDeckSF     1460 non-null   int64  \n",
      " 67  OpenPorchSF    1460 non-null   int64  \n",
      " 68  EnclosedPorch  1460 non-null   int64  \n",
      " 69  3SsnPorch      1460 non-null   int64  \n",
      " 70  ScreenPorch    1460 non-null   int64  \n",
      " 71  PoolArea       1460 non-null   int64  \n",
      " 72  PoolQC         7 non-null      object \n",
      " 73  Fence          281 non-null    object \n",
      " 74  MiscFeature    54 non-null     object \n",
      " 75  MiscVal        1460 non-null   int64  \n",
      " 76  MoSold         1460 non-null   int64  \n",
      " 77  YrSold         1460 non-null   int64  \n",
      " 78  SaleType       1460 non-null   object \n",
      " 79  SaleCondition  1460 non-null   object \n",
      " 80  SalePrice      1460 non-null   int64  \n",
      "dtypes: float64(3), int64(35), object(43)\n",
      "memory usage: 924.0+ KB\n",
      "\n",
      " Columns info None\n"
     ]
    }
   ],
   "source": [
    "# Checking the train dataset\n",
    "\n",
    "print(\"\\n Train dataset dimensions\", train.shape)\n",
    "print(\"\\n Columns info\", train.info())"
   ]
  },
  {
   "cell_type": "markdown",
   "metadata": {},
   "source": [
    "This first look at the data shows that there are features with a lot of missing values. Comparing the data type in the dataset and the data description document we can see that a lot of the variables are classified wrongly in the dataset. Besides, categorical variables must be introduced to algorithms in a numeric value, not as labels. "
   ]
  },
  {
   "cell_type": "code",
   "execution_count": 4,
   "metadata": {},
   "outputs": [],
   "source": [
    "# Loading test dataset\n",
    "test=pd.read_csv('test.csv')"
   ]
  },
  {
   "cell_type": "code",
   "execution_count": 5,
   "metadata": {},
   "outputs": [
    {
     "name": "stdout",
     "output_type": "stream",
     "text": [
      "\n",
      " Test dataset dimensions (1459, 80)\n",
      "<class 'pandas.core.frame.DataFrame'>\n",
      "RangeIndex: 1459 entries, 0 to 1458\n",
      "Data columns (total 80 columns):\n",
      " #   Column         Non-Null Count  Dtype  \n",
      "---  ------         --------------  -----  \n",
      " 0   Id             1459 non-null   int64  \n",
      " 1   MSSubClass     1459 non-null   int64  \n",
      " 2   MSZoning       1455 non-null   object \n",
      " 3   LotFrontage    1232 non-null   float64\n",
      " 4   LotArea        1459 non-null   int64  \n",
      " 5   Street         1459 non-null   object \n",
      " 6   Alley          107 non-null    object \n",
      " 7   LotShape       1459 non-null   object \n",
      " 8   LandContour    1459 non-null   object \n",
      " 9   Utilities      1457 non-null   object \n",
      " 10  LotConfig      1459 non-null   object \n",
      " 11  LandSlope      1459 non-null   object \n",
      " 12  Neighborhood   1459 non-null   object \n",
      " 13  Condition1     1459 non-null   object \n",
      " 14  Condition2     1459 non-null   object \n",
      " 15  BldgType       1459 non-null   object \n",
      " 16  HouseStyle     1459 non-null   object \n",
      " 17  OverallQual    1459 non-null   int64  \n",
      " 18  OverallCond    1459 non-null   int64  \n",
      " 19  YearBuilt      1459 non-null   int64  \n",
      " 20  YearRemodAdd   1459 non-null   int64  \n",
      " 21  RoofStyle      1459 non-null   object \n",
      " 22  RoofMatl       1459 non-null   object \n",
      " 23  Exterior1st    1458 non-null   object \n",
      " 24  Exterior2nd    1458 non-null   object \n",
      " 25  MasVnrType     1443 non-null   object \n",
      " 26  MasVnrArea     1444 non-null   float64\n",
      " 27  ExterQual      1459 non-null   object \n",
      " 28  ExterCond      1459 non-null   object \n",
      " 29  Foundation     1459 non-null   object \n",
      " 30  BsmtQual       1415 non-null   object \n",
      " 31  BsmtCond       1414 non-null   object \n",
      " 32  BsmtExposure   1415 non-null   object \n",
      " 33  BsmtFinType1   1417 non-null   object \n",
      " 34  BsmtFinSF1     1458 non-null   float64\n",
      " 35  BsmtFinType2   1417 non-null   object \n",
      " 36  BsmtFinSF2     1458 non-null   float64\n",
      " 37  BsmtUnfSF      1458 non-null   float64\n",
      " 38  TotalBsmtSF    1458 non-null   float64\n",
      " 39  Heating        1459 non-null   object \n",
      " 40  HeatingQC      1459 non-null   object \n",
      " 41  CentralAir     1459 non-null   object \n",
      " 42  Electrical     1459 non-null   object \n",
      " 43  1stFlrSF       1459 non-null   int64  \n",
      " 44  2ndFlrSF       1459 non-null   int64  \n",
      " 45  LowQualFinSF   1459 non-null   int64  \n",
      " 46  GrLivArea      1459 non-null   int64  \n",
      " 47  BsmtFullBath   1457 non-null   float64\n",
      " 48  BsmtHalfBath   1457 non-null   float64\n",
      " 49  FullBath       1459 non-null   int64  \n",
      " 50  HalfBath       1459 non-null   int64  \n",
      " 51  BedroomAbvGr   1459 non-null   int64  \n",
      " 52  KitchenAbvGr   1459 non-null   int64  \n",
      " 53  KitchenQual    1458 non-null   object \n",
      " 54  TotRmsAbvGrd   1459 non-null   int64  \n",
      " 55  Functional     1457 non-null   object \n",
      " 56  Fireplaces     1459 non-null   int64  \n",
      " 57  FireplaceQu    729 non-null    object \n",
      " 58  GarageType     1383 non-null   object \n",
      " 59  GarageYrBlt    1381 non-null   float64\n",
      " 60  GarageFinish   1381 non-null   object \n",
      " 61  GarageCars     1458 non-null   float64\n",
      " 62  GarageArea     1458 non-null   float64\n",
      " 63  GarageQual     1381 non-null   object \n",
      " 64  GarageCond     1381 non-null   object \n",
      " 65  PavedDrive     1459 non-null   object \n",
      " 66  WoodDeckSF     1459 non-null   int64  \n",
      " 67  OpenPorchSF    1459 non-null   int64  \n",
      " 68  EnclosedPorch  1459 non-null   int64  \n",
      " 69  3SsnPorch      1459 non-null   int64  \n",
      " 70  ScreenPorch    1459 non-null   int64  \n",
      " 71  PoolArea       1459 non-null   int64  \n",
      " 72  PoolQC         3 non-null      object \n",
      " 73  Fence          290 non-null    object \n",
      " 74  MiscFeature    51 non-null     object \n",
      " 75  MiscVal        1459 non-null   int64  \n",
      " 76  MoSold         1459 non-null   int64  \n",
      " 77  YrSold         1459 non-null   int64  \n",
      " 78  SaleType       1458 non-null   object \n",
      " 79  SaleCondition  1459 non-null   object \n",
      "dtypes: float64(11), int64(26), object(43)\n",
      "memory usage: 912.0+ KB\n",
      "\n",
      " Columns info None\n"
     ]
    }
   ],
   "source": [
    "# Checking test dataset\n",
    "print('\\n Test dataset dimensions', test.shape)\n",
    "print(\"\\n Columns info\", test.info())"
   ]
  },
  {
   "cell_type": "markdown",
   "metadata": {},
   "source": [
    "## Data Wrangling"
   ]
  },
  {
   "cell_type": "markdown",
   "metadata": {},
   "source": [
    "I'll concatenate both train and test datasets because I'll be doing a lot of data transformations and all the changes done in the training dataset should be incorporated to the test dataset. To be sure that I'll separate them in the exact same way they were made available I'll add an identifier so I can split the dataset before modeling."
   ]
  },
  {
   "cell_type": "code",
   "execution_count": 6,
   "metadata": {},
   "outputs": [],
   "source": [
    "#Adding identifier\n",
    "train['identifier']='train'\n",
    "test['identifier']='test'"
   ]
  },
  {
   "cell_type": "code",
   "execution_count": 7,
   "metadata": {},
   "outputs": [
    {
     "data": {
      "text/plain": [
       "(2919, 81)"
      ]
     },
     "execution_count": 7,
     "metadata": {},
     "output_type": "execute_result"
    }
   ],
   "source": [
    "#concatenating \n",
    "houses= pd.concat((train.loc[:,'MSSubClass':'identifier'], \n",
    "                      test.loc[:,'MSSubClass':'identifier']))\n",
    "houses.shape"
   ]
  },
  {
   "cell_type": "markdown",
   "metadata": {},
   "source": [
    "There are some categorial features that need to be transformed. Some appear as objects in the dataset; however there are cases in which a feature appears as numeric but it is actually categorical. Also, some of these categorical variables have NAs but they can be recoded as they contain important information. Finally, there are variables that have a LOT of categories. Some of them can be regrouped, others can't. Those that I believe that cannot be regrouped I'll leave as they are and see if it's worth using them during feature extraction.\n",
    "\n",
    "So here are the steps for the data wrangling:\n",
    "\n",
    "1. Recode features that are worth recoding;\n",
    "2. Transforming the categorical features"
   ]
  },
  {
   "cell_type": "markdown",
   "metadata": {},
   "source": [
    "<strong>Step 1: Recoding features</strong>"
   ]
  },
  {
   "cell_type": "code",
   "execution_count": 8,
   "metadata": {},
   "outputs": [
    {
     "name": "stdout",
     "output_type": "stream",
     "text": [
      "Count by category: Grvl    120\n",
      "Pave     78\n",
      "Name: Alley, dtype: int64\n",
      "\n",
      "Count of NAs: 2721\n"
     ]
    }
   ],
   "source": [
    "## Feature: Alley\n",
    "print('Count by category:',houses['Alley'].value_counts())\n",
    "\n",
    "print('\\nCount of NAs:', houses['Alley'].isnull().sum())"
   ]
  },
  {
   "cell_type": "code",
   "execution_count": 9,
   "metadata": {},
   "outputs": [
    {
     "name": "stdout",
     "output_type": "stream",
     "text": [
      "Count by category: no_alley    2721\n",
      "Grvl         120\n",
      "Pave          78\n",
      "Name: Alley, dtype: int64\n"
     ]
    }
   ],
   "source": [
    "#NA indicates that the house has no alley access. It is the bigger\n",
    "#'category', but the count is so big that the variable may have really \n",
    "#little variance. It probably won't be important for the model, but\n",
    "#I'll recode anyway and decide whether it will be included in the model\n",
    "#during feature extraction\n",
    "houses['Alley']=houses['Alley'].fillna('no_alley')\n",
    "print('Count by category:',houses['Alley'].value_counts())"
   ]
  },
  {
   "cell_type": "code",
   "execution_count": 10,
   "metadata": {},
   "outputs": [],
   "source": [
    "##Features: OverallQual & OverallCond. I'll regroup these variables.\n",
    "\n",
    "#Creating a dictionary with the recoding\n",
    "\n",
    "overall_dic={'OverallQual':{10:'excelent', 9:'excelent',8:'good',\n",
    "                           7:'good', 6:'above_average', 5:'average',\n",
    "                           4:'poor', 3:'poor', 2:'poor', 1:'poor'},\n",
    "            'OverallCond':{10:'excelent', 9:'excelent',8:'good',\n",
    "                           7:'good', 6:'above_average', 5:'average',\n",
    "                           4:'poor', 3:'poor', 2:'poor', 1:'poor'}}\n",
    "\n",
    "#replacing\n",
    "houses=houses.replace(overall_dic)"
   ]
  },
  {
   "cell_type": "code",
   "execution_count": 11,
   "metadata": {},
   "outputs": [],
   "source": [
    "#Features: YearBuilt & YearRemodAdd. These variables go back to the\n",
    "# nineteenth and twentieth ceturies. I'll create categories for each of\n",
    "#them.\n",
    "\n",
    "#function to create groups\n",
    "def yearbuilt_group(year):\n",
    "    if year <= 1900:\n",
    "        return \"1900_or_older\"\n",
    "    elif 1900 < year <= 1950:\n",
    "        return \"1901-1950\"\n",
    "    elif 1950 < year < 1970:\n",
    "        return \"1951 - 1969\"\n",
    "    elif 1970 <= year < 2000:\n",
    "        return \"1970 - 1999\"\n",
    "    elif 2000<= year:\n",
    "        return \"2000's\"\n",
    "    \n",
    "    \n",
    "#applying the function\n",
    "houses['YearBuilt']=houses['YearBuilt'].apply(yearbuilt_group)"
   ]
  },
  {
   "cell_type": "code",
   "execution_count": 12,
   "metadata": {},
   "outputs": [],
   "source": [
    "#YearRemodAdd\n",
    "\n",
    "#function to code groups\n",
    "def yearremod_group(year):\n",
    "    if year < 1960:\n",
    "        return \"1950-1959\"\n",
    "    elif 1960 <= year < 1970:\n",
    "        return \"1760 - 1969\"\n",
    "    elif 1970 <= year < 1980:\n",
    "        return \"1970-1979\"\n",
    "    elif 1980 <= year < 1990:\n",
    "        return \"1980 - 1989\"\n",
    "    elif 1990 <= year < 2000:\n",
    "        return \"1990 - 1999\"\n",
    "    elif 2000<= year:\n",
    "        return \"2000's\"\n",
    "    \n",
    "#applying function\n",
    "houses['YearRemodAdd']=houses['YearRemodAdd'].apply(yearremod_group)"
   ]
  },
  {
   "cell_type": "code",
   "execution_count": 13,
   "metadata": {},
   "outputs": [],
   "source": [
    "#Features: BsmtQual, BsmtCond, BsmtExposure & BsmtFinType1. NAs\n",
    "#indicates that the house has no basement. I'll replace them to\n",
    "# a 'no basement' category\n",
    "\n",
    "for column in houses[['BsmtQual','BsmtCond', 'BsmtExposure',\n",
    "                      'BsmtFinType1','BsmtFinType2']]:\n",
    "    houses[column]=houses[column].fillna('no_basement')"
   ]
  },
  {
   "cell_type": "code",
   "execution_count": 14,
   "metadata": {},
   "outputs": [],
   "source": [
    "#Functional - there's not a lot of variance in this feature. Most cases\n",
    "#are categorized as \"Typical\". Minor and major deductions are in such\n",
    "# a small number that it's worth just grouping them all in one category\n",
    "#for deductions.\n",
    "\n",
    "#creating the dictionary\n",
    "deductions_dic={'Functional':{'Typ':'Typ', 'Min1':'deduc',\n",
    "                             'Min2':'deduc', 'Mod':'deduc',\n",
    "                             'Maj1':'deduc', 'Maj2':'deduc',\n",
    "                             'Sev':'Sev'}}\n",
    "#replacing\n",
    "houses=houses.replace(deductions_dic)"
   ]
  },
  {
   "cell_type": "code",
   "execution_count": 15,
   "metadata": {},
   "outputs": [
    {
     "name": "stdout",
     "output_type": "stream",
     "text": [
      "Count by category: no_fireplace    1420\n",
      "Gd               744\n",
      "TA               592\n",
      "Fa                74\n",
      "Po                46\n",
      "Ex                43\n",
      "Name: FireplaceQu, dtype: int64\n"
     ]
    }
   ],
   "source": [
    "## FireplaceQu: transforming NAs to category 'no_fireplace'\n",
    "\n",
    "houses['FireplaceQu']=houses['FireplaceQu'].fillna('no_fireplace')\n",
    "\n",
    "#Checking:\n",
    "print('Count by category:',houses['FireplaceQu'].value_counts())"
   ]
  },
  {
   "cell_type": "code",
   "execution_count": 16,
   "metadata": {},
   "outputs": [],
   "source": [
    "#Creating a for loop to fill NAs on variables about garages. In these\n",
    "#cases NA indicates that there's no garage in the house.\n",
    "\n",
    "#Features:GarageType,GarageFinish,GarageQual,GarageCond\n",
    "\n",
    "for column in houses[['GarageType','GarageFinish',\n",
    "                      'GarageQual','GarageCond']]:\n",
    "    houses[column]=houses[column].fillna('no_garage')"
   ]
  },
  {
   "cell_type": "code",
   "execution_count": 17,
   "metadata": {},
   "outputs": [],
   "source": [
    "## Filling NAs for PoolQC, Fence, MiscFeature\n",
    "\n",
    "houses['PoolQC']=houses['PoolQC'].fillna('no_pool')\n",
    "\n",
    "houses['Fence']=houses['Fence'].fillna('no_fence')\n",
    "\n",
    "houses['MiscFeature']=houses['MiscFeature'].fillna('no_miscellaneous')\n"
   ]
  },
  {
   "cell_type": "code",
   "execution_count": 18,
   "metadata": {},
   "outputs": [
    {
     "name": "stdout",
     "output_type": "stream",
     "text": [
      "<class 'pandas.core.frame.DataFrame'>\n",
      "Int64Index: 2919 entries, 0 to 1458\n",
      "Data columns (total 81 columns):\n",
      " #   Column         Non-Null Count  Dtype  \n",
      "---  ------         --------------  -----  \n",
      " 0   MSSubClass     2919 non-null   int64  \n",
      " 1   MSZoning       2915 non-null   object \n",
      " 2   LotFrontage    2433 non-null   float64\n",
      " 3   LotArea        2919 non-null   int64  \n",
      " 4   Street         2919 non-null   object \n",
      " 5   Alley          2919 non-null   object \n",
      " 6   LotShape       2919 non-null   object \n",
      " 7   LandContour    2919 non-null   object \n",
      " 8   Utilities      2917 non-null   object \n",
      " 9   LotConfig      2919 non-null   object \n",
      " 10  LandSlope      2919 non-null   object \n",
      " 11  Neighborhood   2919 non-null   object \n",
      " 12  Condition1     2919 non-null   object \n",
      " 13  Condition2     2919 non-null   object \n",
      " 14  BldgType       2919 non-null   object \n",
      " 15  HouseStyle     2919 non-null   object \n",
      " 16  OverallQual    2919 non-null   object \n",
      " 17  OverallCond    2919 non-null   object \n",
      " 18  YearBuilt      2919 non-null   object \n",
      " 19  YearRemodAdd   2919 non-null   object \n",
      " 20  RoofStyle      2919 non-null   object \n",
      " 21  RoofMatl       2919 non-null   object \n",
      " 22  Exterior1st    2918 non-null   object \n",
      " 23  Exterior2nd    2918 non-null   object \n",
      " 24  MasVnrType     2895 non-null   object \n",
      " 25  MasVnrArea     2896 non-null   float64\n",
      " 26  ExterQual      2919 non-null   object \n",
      " 27  ExterCond      2919 non-null   object \n",
      " 28  Foundation     2919 non-null   object \n",
      " 29  BsmtQual       2919 non-null   object \n",
      " 30  BsmtCond       2919 non-null   object \n",
      " 31  BsmtExposure   2919 non-null   object \n",
      " 32  BsmtFinType1   2919 non-null   object \n",
      " 33  BsmtFinSF1     2918 non-null   float64\n",
      " 34  BsmtFinType2   2919 non-null   object \n",
      " 35  BsmtFinSF2     2918 non-null   float64\n",
      " 36  BsmtUnfSF      2918 non-null   float64\n",
      " 37  TotalBsmtSF    2918 non-null   float64\n",
      " 38  Heating        2919 non-null   object \n",
      " 39  HeatingQC      2919 non-null   object \n",
      " 40  CentralAir     2919 non-null   object \n",
      " 41  Electrical     2918 non-null   object \n",
      " 42  1stFlrSF       2919 non-null   int64  \n",
      " 43  2ndFlrSF       2919 non-null   int64  \n",
      " 44  LowQualFinSF   2919 non-null   int64  \n",
      " 45  GrLivArea      2919 non-null   int64  \n",
      " 46  BsmtFullBath   2917 non-null   float64\n",
      " 47  BsmtHalfBath   2917 non-null   float64\n",
      " 48  FullBath       2919 non-null   int64  \n",
      " 49  HalfBath       2919 non-null   int64  \n",
      " 50  BedroomAbvGr   2919 non-null   int64  \n",
      " 51  KitchenAbvGr   2919 non-null   int64  \n",
      " 52  KitchenQual    2918 non-null   object \n",
      " 53  TotRmsAbvGrd   2919 non-null   int64  \n",
      " 54  Functional     2917 non-null   object \n",
      " 55  Fireplaces     2919 non-null   int64  \n",
      " 56  FireplaceQu    2919 non-null   object \n",
      " 57  GarageType     2919 non-null   object \n",
      " 58  GarageYrBlt    2760 non-null   float64\n",
      " 59  GarageFinish   2919 non-null   object \n",
      " 60  GarageCars     2918 non-null   float64\n",
      " 61  GarageArea     2918 non-null   float64\n",
      " 62  GarageQual     2919 non-null   object \n",
      " 63  GarageCond     2919 non-null   object \n",
      " 64  PavedDrive     2919 non-null   object \n",
      " 65  WoodDeckSF     2919 non-null   int64  \n",
      " 66  OpenPorchSF    2919 non-null   int64  \n",
      " 67  EnclosedPorch  2919 non-null   int64  \n",
      " 68  3SsnPorch      2919 non-null   int64  \n",
      " 69  ScreenPorch    2919 non-null   int64  \n",
      " 70  PoolArea       2919 non-null   int64  \n",
      " 71  PoolQC         2919 non-null   object \n",
      " 72  Fence          2919 non-null   object \n",
      " 73  MiscFeature    2919 non-null   object \n",
      " 74  MiscVal        2919 non-null   int64  \n",
      " 75  MoSold         2919 non-null   int64  \n",
      " 76  YrSold         2919 non-null   int64  \n",
      " 77  SaleType       2918 non-null   object \n",
      " 78  SaleCondition  2919 non-null   object \n",
      " 79  SalePrice      1460 non-null   float64\n",
      " 80  identifier     2919 non-null   object \n",
      "dtypes: float64(12), int64(21), object(48)\n",
      "memory usage: 1.8+ MB\n"
     ]
    }
   ],
   "source": [
    "## Checking the dataset to see if there are more changes to be done\n",
    "houses.info()"
   ]
  },
  {
   "cell_type": "code",
   "execution_count": 19,
   "metadata": {},
   "outputs": [],
   "source": [
    "## Features that still have a lot of null cells: LotFrontage,\n",
    "#MasVnrType, MasVnrArea, GarageYrBlt.  \n",
    "\n",
    "#For LotFrontage I'll input the mean value of this variable\n",
    "#I'll fill GarageYrBlt with the category '0'\n",
    "#For MasVnrType and MasVnrArea we actually have NAs, meaning that\n",
    "#we don't have any information about what the missing values \n",
    "#could be. I'll just leave the NAs as they are.\n",
    "\n",
    "#LotFrontage:\n",
    "mean_LotFrontage=houses['LotFrontage'].mean()\n",
    "\n",
    "houses['LotFrontage']=houses['LotFrontage'].fillna(mean_LotFrontage)\n",
    "\n",
    "# GarageYrBlt \n",
    "houses['GarageYrBlt']=houses['GarageYrBlt'].fillna(0)"
   ]
  },
  {
   "cell_type": "code",
   "execution_count": 20,
   "metadata": {},
   "outputs": [],
   "source": [
    "#Features to be transformed as categoricals\n",
    "cat=['MSSubClass','MSZoning','Street', 'Alley','LotShape','LandContour',\n",
    "    'Utilities', 'LotConfig', 'LandSlope','Neighborhood','Condition1',\n",
    "    'Condition2','BldgType','HouseStyle', 'OverallQual', 'OverallCond',\n",
    "    'YearBuilt', 'YearRemodAdd','RoofStyle','Exterior1st','Exterior2nd',\n",
    "    'MasVnrType','ExterQual','ExterCond','Foundation','BsmtQual',\n",
    "    'BsmtCond','BsmtExposure','BsmtFinType2', 'Heating','HeatingQC',\n",
    "    'CentralAir','Electrical', 'KitchenQual','FireplaceQu','GarageType',\n",
    "    'GarageFinish','GarageQual','GarageCond','GarageYrBlt','PavedDrive',\n",
    "    'MoSold','YrSold','SaleType','SaleCondition','RoofMatl','BsmtFinType1',\n",
    "    'Functional', 'PoolQC','Fence','MiscFeature']"
   ]
  },
  {
   "cell_type": "code",
   "execution_count": 21,
   "metadata": {},
   "outputs": [],
   "source": [
    "#Saving a list of numeric features\n",
    "num=['LotFrontage','LotArea','MasVnrArea','BsmtFinSF1','BsmtFinSF2',\n",
    "    'BsmtUnfSF','TotalBsmtSF','1stFlrSF','2ndFlrSF','LowQualFinSF',\n",
    "    'GrLivArea','BsmtFullBath','BsmtHalfBath','FullBath','HalfBath',\n",
    "    'BedroomAbvGr','KitchenAbvGr','TotRmsAbvGrd','Fireplaces',\n",
    "    'GarageCars','GarageArea','WoodDeckSF','OpenPorchSF',\n",
    "    'EnclosedPorch','3SsnPorch','ScreenPorch','PoolArea','MiscVal','SalePrice']\n"
   ]
  },
  {
   "cell_type": "markdown",
   "metadata": {},
   "source": [
    "<strong>Step 2: Transforming categorical features</strong>"
   ]
  },
  {
   "cell_type": "code",
   "execution_count": 22,
   "metadata": {},
   "outputs": [],
   "source": [
    "# Iterate over the columns to change those that are categories\n",
    "for column in houses[cat]:\n",
    "    houses[column] = houses[column].astype(\"category\")\n",
    "     "
   ]
  },
  {
   "cell_type": "markdown",
   "metadata": {},
   "source": [
    "## Exploratory Data Analysis (EDA)"
   ]
  },
  {
   "cell_type": "markdown",
   "metadata": {},
   "source": [
    "<strong>Dependent variable</strong>"
   ]
  },
  {
   "cell_type": "markdown",
   "metadata": {},
   "source": [
    "Verifying the distribution of the target variable"
   ]
  },
  {
   "cell_type": "code",
   "execution_count": 23,
   "metadata": {},
   "outputs": [
    {
     "data": {
      "text/plain": [
       "array([[<matplotlib.axes._subplots.AxesSubplot object at 0x7f9e110d1780>,\n",
       "        <matplotlib.axes._subplots.AxesSubplot object at 0x7f9e0ff38630>]],\n",
       "      dtype=object)"
      ]
     },
     "execution_count": 23,
     "metadata": {},
     "output_type": "execute_result"
    },
    {
     "data": {
      "image/png": "[encoded data removed]",
      "text/plain": [
       "<Figure size 432x288 with 2 Axes>"
      ]
     },
     "metadata": {
      "needs_background": "light"
     },
     "output_type": "display_data"
    }
   ],
   "source": [
    "#Comparing price and log of price. \n",
    "new_price = {'price':houses[\"SalePrice\"], 'log(price + 1)':np.log1p(houses['SalePrice'])}\n",
    "prices= pd.DataFrame(new_price)\n",
    "prices.hist()"
   ]
  },
  {
   "cell_type": "code",
   "execution_count": 24,
   "metadata": {},
   "outputs": [
    {
     "data": {
      "text/html": [
       "<div>\n",
       "<style scoped>\n",
       "    .dataframe tbody tr th:only-of-type {\n",
       "        vertical-align: middle;\n",
       "    }\n",
       "\n",
       "    .dataframe tbody tr th {\n",
       "        vertical-align: top;\n",
       "    }\n",
       "\n",
       "    .dataframe thead th {\n",
       "        text-align: right;\n",
       "    }\n",
       "</style>\n",
       "<table border=\"1\" class=\"dataframe\">\n",
       "  <thead>\n",
       "    <tr style=\"text-align: right;\">\n",
       "      <th></th>\n",
       "      <th>price</th>\n",
       "      <th>log(price + 1)</th>\n",
       "    </tr>\n",
       "  </thead>\n",
       "  <tbody>\n",
       "    <tr>\n",
       "      <th>count</th>\n",
       "      <td>1460.000000</td>\n",
       "      <td>1460.000000</td>\n",
       "    </tr>\n",
       "    <tr>\n",
       "      <th>mean</th>\n",
       "      <td>180921.195890</td>\n",
       "      <td>12.024057</td>\n",
       "    </tr>\n",
       "    <tr>\n",
       "      <th>std</th>\n",
       "      <td>79442.502883</td>\n",
       "      <td>0.399449</td>\n",
       "    </tr>\n",
       "    <tr>\n",
       "      <th>min</th>\n",
       "      <td>34900.000000</td>\n",
       "      <td>10.460271</td>\n",
       "    </tr>\n",
       "    <tr>\n",
       "      <th>25%</th>\n",
       "      <td>129975.000000</td>\n",
       "      <td>11.775105</td>\n",
       "    </tr>\n",
       "    <tr>\n",
       "      <th>50%</th>\n",
       "      <td>163000.000000</td>\n",
       "      <td>12.001512</td>\n",
       "    </tr>\n",
       "    <tr>\n",
       "      <th>75%</th>\n",
       "      <td>214000.000000</td>\n",
       "      <td>12.273736</td>\n",
       "    </tr>\n",
       "    <tr>\n",
       "      <th>max</th>\n",
       "      <td>755000.000000</td>\n",
       "      <td>13.534474</td>\n",
       "    </tr>\n",
       "  </tbody>\n",
       "</table>\n",
       "</div>"
      ],
      "text/plain": [
       "               price  log(price + 1)\n",
       "count    1460.000000     1460.000000\n",
       "mean   180921.195890       12.024057\n",
       "std     79442.502883        0.399449\n",
       "min     34900.000000       10.460271\n",
       "25%    129975.000000       11.775105\n",
       "50%    163000.000000       12.001512\n",
       "75%    214000.000000       12.273736\n",
       "max    755000.000000       13.534474"
      ]
     },
     "execution_count": 24,
     "metadata": {},
     "output_type": "execute_result"
    }
   ],
   "source": [
    "#Summarizing price and log of price\n",
    "prices.describe()"
   ]
  },
  {
   "cell_type": "markdown",
   "metadata": {},
   "source": [
    "Price is not normally distributed so I'll have to use the log of price since regression makes the assumption that the data have a gaussian distribution."
   ]
  },
  {
   "cell_type": "code",
   "execution_count": 25,
   "metadata": {},
   "outputs": [],
   "source": [
    "#Transforming SalePrice to log of SalePrice\n",
    "houses[\"SalePrice\"] = np.log1p(houses[\"SalePrice\"])"
   ]
  },
  {
   "cell_type": "markdown",
   "metadata": {},
   "source": [
    "<strong>Independent Variables</strong>"
   ]
  },
  {
   "cell_type": "markdown",
   "metadata": {},
   "source": [
    "Checking numeric variables for outliers</strong>"
   ]
  },
  {
   "cell_type": "code",
   "execution_count": 26,
   "metadata": {},
   "outputs": [],
   "source": [
    "#Creating separate dataset just with numeric features\n",
    "houses_num=houses[num]"
   ]
  },
  {
   "cell_type": "code",
   "execution_count": 27,
   "metadata": {},
   "outputs": [
    {
     "data": {
      "image/png": "[encoded data removed]",
      "text/plain": [
       "<Figure size 432x288 with 1 Axes>"
      ]
     },
     "metadata": {
      "needs_background": "light"
     },
     "output_type": "display_data"
    },
    {
     "data": {
      "image/png": "[encoded data removed]",
      "text/plain": [
       "<Figure size 432x288 with 1 Axes>"
      ]
     },
     "metadata": {
      "needs_background": "light"
     },
     "output_type": "display_data"
    },
    {
     "data": {
      "image/png": "[encoded data removed]",
      "text/plain": [
       "<Figure size 432x288 with 1 Axes>"
      ]
     },
     "metadata": {
      "needs_background": "light"
     },
     "output_type": "display_data"
    },
    {
     "data": {
      "image/png": "[encoded data removed]",
      "text/plain": [
       "<Figure size 432x288 with 1 Axes>"
      ]
     },
     "metadata": {
      "needs_background": "light"
     },
     "output_type": "display_data"
    },
    {
     "data": {
      "image/png": "[encoded data removed]",
      "text/plain": [
       "<Figure size 432x288 with 1 Axes>"
      ]
     },
     "metadata": {
      "needs_background": "light"
     },
     "output_type": "display_data"
    },
    {
     "data": {
      "image/png": "[encoded data removed]",
      "text/plain": [
       "<Figure size 432x288 with 1 Axes>"
      ]
     },
     "metadata": {
      "needs_background": "light"
     },
     "output_type": "display_data"
    },
    {
     "data": {
      "image/png": "[encoded data removed]",
      "text/plain": [
       "<Figure size 432x288 with 1 Axes>"
      ]
     },
     "metadata": {
      "needs_background": "light"
     },
     "output_type": "display_data"
    },
    {
     "data": {
      "image/png": "[encoded data removed]",
      "text/plain": [
       "<Figure size 432x288 with 1 Axes>"
      ]
     },
     "metadata": {
      "needs_background": "light"
     },
     "output_type": "display_data"
    },
    {
     "data": {
      "image/png": "[encoded data removed]",
      "text/plain": [
       "<Figure size 432x288 with 1 Axes>"
      ]
     },
     "metadata": {
      "needs_background": "light"
     },
     "output_type": "display_data"
    },
    {
     "data": {
      "image/png": "[encoded data removed]",
      "text/plain": [
       "<Figure size 432x288 with 1 Axes>"
      ]
     },
     "metadata": {
      "needs_background": "light"
     },
     "output_type": "display_data"
    },
    {
     "data": {
      "image/png": "[encoded data removed]",
      "text/plain": [
       "<Figure size 432x288 with 1 Axes>"
      ]
     },
     "metadata": {
      "needs_background": "light"
     },
     "output_type": "display_data"
    },
    {
     "data": {
      "image/png": "[encoded data removed]",
      "text/plain": [
       "<Figure size 432x288 with 1 Axes>"
      ]
     },
     "metadata": {
      "needs_background": "light"
     },
     "output_type": "display_data"
    },
    {
     "data": {
      "image/png": "[encoded data removed]",
      "text/plain": [
       "<Figure size 432x288 with 1 Axes>"
      ]
     },
     "metadata": {
      "needs_background": "light"
     },
     "output_type": "display_data"
    },
    {
     "data": {
      "image/png": "[encoded data removed]",
      "text/plain": [
       "<Figure size 432x288 with 1 Axes>"
      ]
     },
     "metadata": {
      "needs_background": "light"
     },
     "output_type": "display_data"
    },
    {
     "data": {
      "image/png": "[encoded data removed]",
      "text/plain": [
       "<Figure size 432x288 with 1 Axes>"
      ]
     },
     "metadata": {
      "needs_background": "light"
     },
     "output_type": "display_data"
    },
    {
     "data": {
      "image/png": "[encoded data removed]",
      "text/plain": [
       "<Figure size 432x288 with 1 Axes>"
      ]
     },
     "metadata": {
      "needs_background": "light"
     },
     "output_type": "display_data"
    },
    {
     "data": {
      "image/png": "[encoded data removed]",
      "text/plain": [
       "<Figure size 432x288 with 1 Axes>"
      ]
     },
     "metadata": {
      "needs_background": "light"
     },
     "output_type": "display_data"
    },
    {
     "data": {
      "image/png": "[encoded data removed]",
      "text/plain": [
       "<Figure size 432x288 with 1 Axes>"
      ]
     },
     "metadata": {
      "needs_background": "light"
     },
     "output_type": "display_data"
    },
    {
     "data": {
      "image/png": "[encoded data removed]",
      "text/plain": [
       "<Figure size 432x288 with 1 Axes>"
      ]
     },
     "metadata": {
      "needs_background": "light"
     },
     "output_type": "display_data"
    },
    {
     "data": {
      "image/png": "[encoded data removed]",
      "text/plain": [
       "<Figure size 432x288 with 1 Axes>"
      ]
     },
     "metadata": {
      "needs_background": "light"
     },
     "output_type": "display_data"
    },
    {
     "data": {
      "image/png": "[encoded data removed]",
      "text/plain": [
       "<Figure size 432x288 with 1 Axes>"
      ]
     },
     "metadata": {
      "needs_background": "light"
     },
     "output_type": "display_data"
    },
    {
     "data": {
      "image/png": "[encoded data removed]",
      "text/plain": [
       "<Figure size 432x288 with 1 Axes>"
      ]
     },
     "metadata": {
      "needs_background": "light"
     },
     "output_type": "display_data"
    },
    {
     "data": {
      "image/png": "[encoded data removed]",
      "text/plain": [
       "<Figure size 432x288 with 1 Axes>"
      ]
     },
     "metadata": {
      "needs_background": "light"
     },
     "output_type": "display_data"
    },
    {
     "data": {
      "image/png": "[encoded data removed]",
      "text/plain": [
       "<Figure size 432x288 with 1 Axes>"
      ]
     },
     "metadata": {
      "needs_background": "light"
     },
     "output_type": "display_data"
    },
    {
     "data": {
      "image/png": "[encoded data removed]",
      "text/plain": [
       "<Figure size 432x288 with 1 Axes>"
      ]
     },
     "metadata": {
      "needs_background": "light"
     },
     "output_type": "display_data"
    },
    {
     "data": {
      "image/png": "[encoded data removed]",
      "text/plain": [
       "<Figure size 432x288 with 1 Axes>"
      ]
     },
     "metadata": {
      "needs_background": "light"
     },
     "output_type": "display_data"
    },
    {
     "data": {
      "image/png": "[encoded data removed]",
      "text/plain": [
       "<Figure size 432x288 with 1 Axes>"
      ]
     },
     "metadata": {
      "needs_background": "light"
     },
     "output_type": "display_data"
    },
    {
     "data": {
      "image/png": "[encoded data removed]",
      "text/plain": [
       "<Figure size 432x288 with 1 Axes>"
      ]
     },
     "metadata": {
      "needs_background": "light"
     },
     "output_type": "display_data"
    },
    {
     "data": {
      "image/png": "[encoded data removed]",
      "text/plain": [
       "<Figure size 432x288 with 1 Axes>"
      ]
     },
     "metadata": {
      "needs_background": "light"
     },
     "output_type": "display_data"
    }
   ],
   "source": [
    "#For loop to create boxplots for all features so I can look for \n",
    "#outliers\n",
    "for columns in houses_num:\n",
    "    plt.figure()\n",
    "    sns.boxplot(x=houses_num[columns])"
   ]
  },
  {
   "cell_type": "markdown",
   "metadata": {},
   "source": [
    "I've looked every feature closely and noticed that there are some \n",
    "with a great number of zeros. In these cases we don't have a lot of\n",
    "variation in the variables so I believe they'll probably be droppep \n",
    "during feature extraction. I'm taking off outliers from variables that\n",
    "present variation in their distribution, which indicates that they may be\n",
    "relevant for the model."
   ]
  },
  {
   "cell_type": "code",
   "execution_count": 28,
   "metadata": {},
   "outputs": [],
   "source": [
    "#Taking off outliers\n",
    "houses= houses[houses['LotFrontage']<300]\n",
    "houses= houses[houses['LotArea']<100000]\n",
    "houses= houses[houses['BsmtUnfSF']<2336]\n",
    "houses= houses[houses['TotalBsmtSF']<5000]\n",
    "houses= houses[houses['1stFlrSF']<4000]\n",
    "houses= houses[houses['GrLivArea']<4000]"
   ]
  },
  {
   "cell_type": "markdown",
   "metadata": {},
   "source": [
    "## Feature Engineering and Selection"
   ]
  },
  {
   "cell_type": "markdown",
   "metadata": {},
   "source": [
    "I'll standardize the numeric features, which means subtracting the mean of each observation and then dividing by the standard deviation so I can have all features in the same scale. For the categorical feartures I'll do one-hot encoding for variables which the categories are independent from each other and transform to ordinal those that have categories that are related."
   ]
  },
  {
   "cell_type": "code",
   "execution_count": 29,
   "metadata": {},
   "outputs": [],
   "source": [
    "#Scaling numeric features\n",
    "scaler = StandardScaler() \n",
    "houses[num]= pd.DataFrame(scaler.fit_transform(houses[num]))"
   ]
  },
  {
   "cell_type": "code",
   "execution_count": 30,
   "metadata": {},
   "outputs": [
    {
     "name": "stdout",
     "output_type": "stream",
     "text": [
      "Is there any NAN? True\n",
      "How many? 72\n"
     ]
    }
   ],
   "source": [
    "#Checking to see if there's any remaining NAN \n",
    "print(\"Is there any NAN?\", houses.isnull().values.any())\n",
    "print(\"How many?\", houses.isnull().sum().sum())"
   ]
  },
  {
   "cell_type": "code",
   "execution_count": 31,
   "metadata": {},
   "outputs": [],
   "source": [
    "#Dropping NAN\n",
    "houses=houses.dropna()"
   ]
  },
  {
   "cell_type": "code",
   "execution_count": 32,
   "metadata": {},
   "outputs": [],
   "source": [
    "#Separating ordinal and nominal categorical variables\n",
    "\n",
    "cat_ordinal=['OverallQual','OverallCond','ExterQual','ExterCond',\n",
    "            'BsmtQual','BsmtCond','BsmtFinType1','BsmtFinType2',\n",
    "             'HeatingQC','KitchenQual','FireplaceQu','GarageQual',\n",
    "            'GarageCond','PoolQC']\n",
    "\n",
    "cat_nominal=[i for i in cat if i not in cat_ordinal]"
   ]
  },
  {
   "cell_type": "code",
   "execution_count": 33,
   "metadata": {},
   "outputs": [],
   "source": [
    "# define ordinal encoding\n",
    "encoder_ord = OrdinalEncoder()\n",
    "# transform data\n",
    "houses[cat_ordinal]= pd.DataFrame(encoder_ord.fit_transform(houses[cat_ordinal]))"
   ]
  },
  {
   "cell_type": "code",
   "execution_count": 34,
   "metadata": {},
   "outputs": [],
   "source": [
    "#One-hot encoding on nominal categorical features\n",
    "houses= pd.get_dummies(houses,columns=cat_nominal)"
   ]
  },
  {
   "cell_type": "code",
   "execution_count": 35,
   "metadata": {},
   "outputs": [],
   "source": [
    "#Spliting dataframe in train and test\n",
    "train=houses[houses['identifier']=='train']\n",
    "test=houses[houses['identifier']=='test']"
   ]
  },
  {
   "cell_type": "code",
   "execution_count": 36,
   "metadata": {},
   "outputs": [],
   "source": [
    "#Dropping identifier from both dataframes\n",
    "train.drop('identifier',axis='columns',inplace=True)\n",
    "test.drop('identifier',axis='columns',inplace=True)"
   ]
  },
  {
   "cell_type": "code",
   "execution_count": 37,
   "metadata": {},
   "outputs": [],
   "source": [
    "#Separating X and y\n",
    "X_train=train.loc[:, train.columns != 'SalePrice']\n",
    "y_train=train['SalePrice']"
   ]
  },
  {
   "cell_type": "code",
   "execution_count": 38,
   "metadata": {},
   "outputs": [],
   "source": [
    "X_test=test.loc[:, test.columns != 'SalePrice']\n",
    "y_test=test['SalePrice']"
   ]
  },
  {
   "cell_type": "markdown",
   "metadata": {},
   "source": [
    "I have too many features. In order to decide which ones I'll use in the first model, that will be a multiple linear regression I'll do a feature selection with RFE (recursive feature selection) with cross validation(RFECV). Later I'll try running a Lasso Regression to see which features are used on this model and compare to those selected here with the RFECV."
   ]
  },
  {
   "cell_type": "code",
   "execution_count": 39,
   "metadata": {},
   "outputs": [],
   "source": [
    "#specifying model\n",
    "lm=LinearRegression()"
   ]
  },
  {
   "cell_type": "code",
   "execution_count": 40,
   "metadata": {},
   "outputs": [],
   "source": [
    "#defining the rfecv\n",
    "rfecv=RFECV(estimator=lm, step=1, scoring='r2')"
   ]
  },
  {
   "cell_type": "code",
   "execution_count": 41,
   "metadata": {},
   "outputs": [
    {
     "data": {
      "text/plain": [
       "RFECV(cv='warn',\n",
       "      estimator=LinearRegression(copy_X=True, fit_intercept=True, n_jobs=None,\n",
       "                                 normalize=False),\n",
       "      min_features_to_select=1, n_jobs=None, scoring='r2', step=1, verbose=0)"
      ]
     },
     "execution_count": 41,
     "metadata": {},
     "output_type": "execute_result"
    }
   ],
   "source": [
    "#fitting the rfecv to the training datasets\n",
    "rfecv.fit(X_train,y_train)"
   ]
  },
  {
   "cell_type": "code",
   "execution_count": 42,
   "metadata": {},
   "outputs": [
    {
     "data": {
      "text/plain": [
       "24"
      ]
     },
     "execution_count": 42,
     "metadata": {},
     "output_type": "execute_result"
    }
   ],
   "source": [
    "#How many features were selected?\n",
    "rfecv.n_features_"
   ]
  },
  {
   "cell_type": "code",
   "execution_count": 43,
   "metadata": {},
   "outputs": [
    {
     "name": "stdout",
     "output_type": "stream",
     "text": [
      "Column: 0, Selected False, Rank: 335.000\n",
      "Column: 1, Selected False, Rank: 341.000\n",
      "Column: 2, Selected False, Rank: 360.000\n",
      "Column: 3, Selected False, Rank: 357.000\n",
      "Column: 4, Selected False, Rank: 359.000\n",
      "Column: 5, Selected False, Rank: 344.000\n",
      "Column: 6, Selected False, Rank: 338.000\n",
      "Column: 7, Selected False, Rank: 355.000\n",
      "Column: 8, Selected False, Rank: 356.000\n",
      "Column: 9, Selected False, Rank: 362.000\n",
      "Column: 10, Selected False, Rank: 217.000\n",
      "Column: 11, Selected False, Rank: 345.000\n",
      "Column: 12, Selected False, Rank: 262.000\n",
      "Column: 13, Selected False, Rank: 261.000\n",
      "Column: 14, Selected False, Rank: 192.000\n",
      "Column: 15, Selected False, Rank: 350.000\n",
      "Column: 16, Selected True, Rank: 1.000\n",
      "Column: 17, Selected True, Rank: 1.000\n",
      "Column: 18, Selected True, Rank: 1.000\n",
      "Column: 19, Selected True, Rank: 1.000\n",
      "Column: 20, Selected False, Rank: 333.000\n",
      "Column: 21, Selected False, Rank: 342.000\n",
      "Column: 22, Selected False, Rank: 327.000\n",
      "Column: 23, Selected False, Rank: 330.000\n",
      "Column: 24, Selected False, Rank: 331.000\n",
      "Column: 25, Selected False, Rank: 326.000\n",
      "Column: 26, Selected False, Rank: 343.000\n",
      "Column: 27, Selected False, Rank: 332.000\n",
      "Column: 28, Selected False, Rank: 329.000\n",
      "Column: 29, Selected False, Rank: 361.000\n",
      "Column: 30, Selected False, Rank: 325.000\n",
      "Column: 31, Selected False, Rank: 328.000\n",
      "Column: 32, Selected False, Rank: 348.000\n",
      "Column: 33, Selected False, Rank: 349.000\n",
      "Column: 34, Selected False, Rank: 336.000\n",
      "Column: 35, Selected False, Rank: 347.000\n",
      "Column: 36, Selected False, Rank: 346.000\n",
      "Column: 37, Selected False, Rank: 352.000\n",
      "Column: 38, Selected False, Rank: 339.000\n",
      "Column: 39, Selected False, Rank: 358.000\n",
      "Column: 40, Selected False, Rank: 334.000\n",
      "Column: 41, Selected False, Rank: 353.000\n",
      "Column: 42, Selected False, Rank: 157.000\n",
      "Column: 43, Selected False, Rank: 60.000\n",
      "Column: 44, Selected False, Rank: 135.000\n",
      "Column: 45, Selected False, Rank: 6.000\n",
      "Column: 46, Selected False, Rank: 49.000\n",
      "Column: 47, Selected False, Rank: 170.000\n",
      "Column: 48, Selected False, Rank: 63.000\n",
      "Column: 49, Selected False, Rank: 55.000\n",
      "Column: 50, Selected False, Rank: 44.000\n",
      "Column: 51, Selected False, Rank: 50.000\n",
      "Column: 52, Selected False, Rank: 283.000\n",
      "Column: 53, Selected False, Rank: 71.000\n",
      "Column: 54, Selected False, Rank: 292.000\n",
      "Column: 55, Selected False, Rank: 74.000\n",
      "Column: 56, Selected False, Rank: 68.000\n",
      "Column: 57, Selected False, Rank: 73.000\n",
      "Column: 58, Selected False, Rank: 28.000\n",
      "Column: 59, Selected False, Rank: 47.000\n",
      "Column: 60, Selected False, Rank: 99.000\n",
      "Column: 61, Selected False, Rank: 180.000\n",
      "Column: 62, Selected False, Rank: 102.000\n",
      "Column: 63, Selected True, Rank: 1.000\n",
      "Column: 64, Selected True, Rank: 1.000\n",
      "Column: 65, Selected False, Rank: 162.000\n",
      "Column: 66, Selected False, Rank: 161.000\n",
      "Column: 67, Selected False, Rank: 83.000\n",
      "Column: 68, Selected False, Rank: 160.000\n",
      "Column: 69, Selected False, Rank: 119.000\n",
      "Column: 70, Selected False, Rank: 156.000\n",
      "Column: 71, Selected False, Rank: 121.000\n",
      "Column: 72, Selected False, Rank: 130.000\n",
      "Column: 73, Selected False, Rank: 159.000\n",
      "Column: 74, Selected False, Rank: 110.000\n",
      "Column: 75, Selected False, Rank: 175.000\n",
      "Column: 76, Selected True, Rank: 1.000\n",
      "Column: 77, Selected True, Rank: 1.000\n",
      "Column: 78, Selected False, Rank: 81.000\n",
      "Column: 79, Selected False, Rank: 80.000\n",
      "Column: 80, Selected False, Rank: 176.000\n",
      "Column: 81, Selected False, Rank: 25.000\n",
      "Column: 82, Selected False, Rank: 82.000\n",
      "Column: 83, Selected False, Rank: 133.000\n",
      "Column: 84, Selected False, Rank: 111.000\n",
      "Column: 85, Selected False, Rank: 65.000\n",
      "Column: 86, Selected False, Rank: 39.000\n",
      "Column: 87, Selected False, Rank: 18.000\n",
      "Column: 88, Selected False, Rank: 30.000\n",
      "Column: 89, Selected False, Rank: 187.000\n",
      "Column: 90, Selected False, Rank: 38.000\n",
      "Column: 91, Selected False, Rank: 98.000\n",
      "Column: 92, Selected False, Rank: 64.000\n",
      "Column: 93, Selected False, Rank: 90.000\n",
      "Column: 94, Selected False, Rank: 105.000\n",
      "Column: 95, Selected False, Rank: 92.000\n",
      "Column: 96, Selected False, Rank: 108.000\n",
      "Column: 97, Selected False, Rank: 103.000\n",
      "Column: 98, Selected False, Rank: 104.000\n",
      "Column: 99, Selected False, Rank: 37.000\n",
      "Column: 100, Selected False, Rank: 93.000\n",
      "Column: 101, Selected False, Rank: 94.000\n",
      "Column: 102, Selected False, Rank: 43.000\n",
      "Column: 103, Selected False, Rank: 153.000\n",
      "Column: 104, Selected False, Rank: 54.000\n",
      "Column: 105, Selected False, Rank: 91.000\n",
      "Column: 106, Selected False, Rank: 100.000\n",
      "Column: 107, Selected False, Rank: 67.000\n",
      "Column: 108, Selected False, Rank: 33.000\n",
      "Column: 109, Selected False, Rank: 96.000\n",
      "Column: 110, Selected False, Rank: 97.000\n",
      "Column: 111, Selected False, Rank: 144.000\n",
      "Column: 112, Selected False, Rank: 146.000\n",
      "Column: 113, Selected False, Rank: 145.000\n",
      "Column: 114, Selected False, Rank: 106.000\n",
      "Column: 115, Selected False, Rank: 149.000\n",
      "Column: 116, Selected False, Rank: 79.000\n",
      "Column: 117, Selected False, Rank: 150.000\n",
      "Column: 118, Selected True, Rank: 1.000\n",
      "Column: 119, Selected False, Rank: 24.000\n",
      "Column: 120, Selected False, Rank: 7.000\n",
      "Column: 121, Selected False, Rank: 40.000\n",
      "Column: 122, Selected False, Rank: 41.000\n",
      "Column: 123, Selected False, Rank: 8.000\n",
      "Column: 124, Selected False, Rank: 4.000\n",
      "Column: 125, Selected True, Rank: 1.000\n",
      "Column: 126, Selected True, Rank: 1.000\n",
      "Column: 127, Selected False, Rank: 9.000\n",
      "Column: 128, Selected False, Rank: 52.000\n",
      "Column: 129, Selected False, Rank: 75.000\n",
      "Column: 130, Selected False, Rank: 120.000\n",
      "Column: 131, Selected False, Rank: 138.000\n",
      "Column: 132, Selected False, Rank: 139.000\n",
      "Column: 133, Selected False, Rank: 48.000\n",
      "Column: 134, Selected False, Rank: 5.000\n",
      "Column: 135, Selected False, Rank: 136.000\n",
      "Column: 136, Selected False, Rank: 53.000\n",
      "Column: 137, Selected False, Rank: 72.000\n",
      "Column: 138, Selected False, Rank: 166.000\n",
      "Column: 139, Selected False, Rank: 51.000\n",
      "Column: 140, Selected False, Rank: 45.000\n",
      "Column: 141, Selected False, Rank: 62.000\n",
      "Column: 142, Selected False, Rank: 61.000\n",
      "Column: 143, Selected False, Rank: 95.000\n",
      "Column: 144, Selected False, Rank: 141.000\n",
      "Column: 145, Selected False, Rank: 137.000\n",
      "Column: 146, Selected False, Rank: 143.000\n",
      "Column: 147, Selected False, Rank: 142.000\n",
      "Column: 148, Selected False, Rank: 165.000\n",
      "Column: 149, Selected False, Rank: 66.000\n",
      "Column: 150, Selected False, Rank: 181.000\n",
      "Column: 151, Selected False, Rank: 89.000\n",
      "Column: 152, Selected False, Rank: 2.000\n",
      "Column: 153, Selected False, Rank: 12.000\n",
      "Column: 154, Selected False, Rank: 129.000\n",
      "Column: 155, Selected False, Rank: 11.000\n",
      "Column: 156, Selected False, Rank: 112.000\n",
      "Column: 157, Selected True, Rank: 1.000\n",
      "Column: 158, Selected False, Rank: 46.000\n",
      "Column: 159, Selected False, Rank: 27.000\n",
      "Column: 160, Selected False, Rank: 32.000\n",
      "Column: 161, Selected False, Rank: 86.000\n",
      "Column: 162, Selected True, Rank: 1.000\n",
      "Column: 163, Selected False, Rank: 109.000\n",
      "Column: 164, Selected False, Rank: 184.000\n",
      "Column: 165, Selected False, Rank: 14.000\n",
      "Column: 166, Selected False, Rank: 87.000\n",
      "Column: 167, Selected False, Rank: 169.000\n",
      "Column: 168, Selected False, Rank: 118.000\n",
      "Column: 169, Selected False, Rank: 124.000\n",
      "Column: 170, Selected False, Rank: 134.000\n",
      "Column: 171, Selected False, Rank: 84.000\n",
      "Column: 172, Selected False, Rank: 168.000\n",
      "Column: 173, Selected False, Rank: 201.000\n",
      "Column: 174, Selected False, Rank: 268.000\n",
      "Column: 175, Selected False, Rank: 274.000\n",
      "Column: 176, Selected False, Rank: 258.000\n",
      "Column: 177, Selected True, Rank: 1.000\n",
      "Column: 178, Selected False, Rank: 194.000\n",
      "Column: 179, Selected False, Rank: 269.000\n",
      "Column: 180, Selected False, Rank: 265.000\n",
      "Column: 181, Selected False, Rank: 259.000\n",
      "Column: 182, Selected True, Rank: 1.000\n",
      "Column: 183, Selected False, Rank: 212.000\n",
      "Column: 184, Selected False, Rank: 264.000\n",
      "Column: 185, Selected False, Rank: 193.000\n",
      "Column: 186, Selected False, Rank: 273.000\n",
      "Column: 187, Selected False, Rank: 266.000\n",
      "Column: 188, Selected False, Rank: 243.000\n",
      "Column: 189, Selected False, Rank: 36.000\n",
      "Column: 190, Selected False, Rank: 127.000\n",
      "Column: 191, Selected False, Rank: 126.000\n",
      "Column: 192, Selected False, Rank: 182.000\n",
      "Column: 193, Selected False, Rank: 58.000\n",
      "Column: 194, Selected False, Rank: 57.000\n",
      "Column: 195, Selected False, Rank: 59.000\n",
      "Column: 196, Selected False, Rank: 151.000\n",
      "Column: 197, Selected False, Rank: 16.000\n",
      "Column: 198, Selected False, Rank: 178.000\n",
      "Column: 199, Selected False, Rank: 148.000\n",
      "Column: 200, Selected False, Rank: 179.000\n",
      "Column: 201, Selected False, Rank: 183.000\n",
      "Column: 202, Selected False, Rank: 147.000\n",
      "Column: 203, Selected False, Rank: 56.000\n",
      "Column: 204, Selected False, Rank: 101.000\n",
      "Column: 205, Selected False, Rank: 107.000\n",
      "Column: 206, Selected False, Rank: 173.000\n",
      "Column: 207, Selected False, Rank: 172.000\n",
      "Column: 208, Selected False, Rank: 123.000\n",
      "Column: 209, Selected False, Rank: 23.000\n",
      "Column: 210, Selected False, Rank: 128.000\n",
      "Column: 211, Selected False, Rank: 76.000\n",
      "Column: 212, Selected False, Rank: 186.000\n",
      "Column: 213, Selected False, Rank: 31.000\n",
      "Column: 214, Selected False, Rank: 15.000\n",
      "Column: 215, Selected False, Rank: 34.000\n",
      "Column: 216, Selected False, Rank: 88.000\n",
      "Column: 217, Selected False, Rank: 155.000\n",
      "Column: 218, Selected False, Rank: 78.000\n",
      "Column: 219, Selected False, Rank: 35.000\n",
      "Column: 220, Selected False, Rank: 70.000\n",
      "Column: 221, Selected False, Rank: 125.000\n",
      "Column: 222, Selected False, Rank: 77.000\n",
      "Column: 223, Selected False, Rank: 131.000\n",
      "Column: 224, Selected False, Rank: 163.000\n",
      "Column: 225, Selected False, Rank: 164.000\n",
      "Column: 226, Selected False, Rank: 132.000\n",
      "Column: 227, Selected False, Rank: 154.000\n",
      "Column: 228, Selected False, Rank: 158.000\n",
      "Column: 229, Selected False, Rank: 337.000\n",
      "Column: 230, Selected False, Rank: 340.000\n",
      "Column: 231, Selected True, Rank: 1.000\n",
      "Column: 232, Selected True, Rank: 1.000\n",
      "Column: 233, Selected False, Rank: 190.000\n",
      "Column: 234, Selected False, Rank: 221.000\n",
      "Column: 235, Selected False, Rank: 321.000\n",
      "Column: 236, Selected False, Rank: 219.000\n",
      "Column: 237, Selected False, Rank: 223.000\n",
      "Column: 238, Selected False, Rank: 351.000\n",
      "Column: 239, Selected False, Rank: 191.000\n",
      "Column: 240, Selected False, Rank: 354.000\n",
      "Column: 241, Selected False, Rank: 199.000\n",
      "Column: 242, Selected False, Rank: 319.000\n",
      "Column: 243, Selected False, Rank: 197.000\n",
      "Column: 244, Selected False, Rank: 215.000\n",
      "Column: 245, Selected False, Rank: 213.000\n",
      "Column: 246, Selected False, Rank: 222.000\n",
      "Column: 247, Selected False, Rank: 19.000\n",
      "Column: 248, Selected False, Rank: 13.000\n",
      "Column: 249, Selected False, Rank: 320.000\n",
      "Column: 250, Selected False, Rank: 200.000\n",
      "Column: 251, Selected False, Rank: 218.000\n",
      "Column: 252, Selected False, Rank: 196.000\n",
      "Column: 253, Selected False, Rank: 203.000\n",
      "Column: 254, Selected False, Rank: 245.000\n",
      "Column: 255, Selected False, Rank: 318.000\n",
      "Column: 256, Selected False, Rank: 205.000\n",
      "Column: 257, Selected False, Rank: 198.000\n",
      "Column: 258, Selected False, Rank: 195.000\n",
      "Column: 259, Selected False, Rank: 315.000\n",
      "Column: 260, Selected False, Rank: 317.000\n",
      "Column: 261, Selected False, Rank: 211.000\n",
      "Column: 262, Selected False, Rank: 209.000\n",
      "Column: 263, Selected False, Rank: 310.000\n",
      "Column: 264, Selected False, Rank: 363.000\n",
      "Column: 265, Selected False, Rank: 236.000\n",
      "Column: 266, Selected False, Rank: 234.000\n",
      "Column: 267, Selected False, Rank: 216.000\n",
      "Column: 268, Selected False, Rank: 202.000\n",
      "Column: 269, Selected False, Rank: 313.000\n",
      "Column: 270, Selected False, Rank: 235.000\n",
      "Column: 271, Selected False, Rank: 256.000\n",
      "Column: 272, Selected False, Rank: 314.000\n",
      "Column: 273, Selected False, Rank: 207.000\n",
      "Column: 274, Selected False, Rank: 290.000\n",
      "Column: 275, Selected False, Rank: 225.000\n",
      "Column: 276, Selected False, Rank: 309.000\n",
      "Column: 277, Selected False, Rank: 241.000\n",
      "Column: 278, Selected False, Rank: 311.000\n",
      "Column: 279, Selected False, Rank: 296.000\n",
      "Column: 280, Selected False, Rank: 286.000\n",
      "Column: 281, Selected False, Rank: 244.000\n",
      "Column: 282, Selected False, Rank: 305.000\n",
      "Column: 283, Selected False, Rank: 238.000\n",
      "Column: 284, Selected False, Rank: 303.000\n",
      "Column: 285, Selected False, Rank: 288.000\n",
      "Column: 286, Selected False, Rank: 304.000\n",
      "Column: 287, Selected False, Rank: 240.000\n",
      "Column: 288, Selected False, Rank: 306.000\n",
      "Column: 289, Selected False, Rank: 257.000\n",
      "Column: 290, Selected False, Rank: 224.000\n",
      "Column: 291, Selected False, Rank: 210.000\n",
      "Column: 292, Selected False, Rank: 233.000\n",
      "Column: 293, Selected False, Rank: 239.000\n",
      "Column: 294, Selected False, Rank: 232.000\n",
      "Column: 295, Selected False, Rank: 302.000\n",
      "Column: 296, Selected False, Rank: 248.000\n",
      "Column: 297, Selected False, Rank: 231.000\n",
      "Column: 298, Selected False, Rank: 316.000\n",
      "Column: 299, Selected False, Rank: 300.000\n",
      "Column: 300, Selected False, Rank: 297.000\n",
      "Column: 301, Selected False, Rank: 298.000\n",
      "Column: 302, Selected False, Rank: 21.000\n",
      "Column: 303, Selected False, Rank: 287.000\n",
      "Column: 304, Selected False, Rank: 299.000\n",
      "Column: 305, Selected False, Rank: 307.000\n",
      "Column: 306, Selected False, Rank: 206.000\n",
      "Column: 307, Selected False, Rank: 301.000\n",
      "Column: 308, Selected False, Rank: 204.000\n",
      "Column: 309, Selected False, Rank: 289.000\n",
      "Column: 310, Selected False, Rank: 220.000\n",
      "Column: 311, Selected False, Rank: 255.000\n",
      "Column: 312, Selected False, Rank: 208.000\n",
      "Column: 313, Selected False, Rank: 295.000\n",
      "Column: 314, Selected False, Rank: 214.000\n",
      "Column: 315, Selected False, Rank: 293.000\n",
      "Column: 316, Selected False, Rank: 291.000\n",
      "Column: 317, Selected False, Rank: 294.000\n",
      "Column: 318, Selected False, Rank: 308.000\n",
      "Column: 319, Selected False, Rank: 237.000\n",
      "Column: 320, Selected False, Rank: 312.000\n",
      "Column: 321, Selected False, Rank: 230.000\n",
      "Column: 322, Selected False, Rank: 250.000\n",
      "Column: 323, Selected False, Rank: 253.000\n",
      "Column: 324, Selected False, Rank: 242.000\n",
      "Column: 325, Selected False, Rank: 249.000\n",
      "Column: 326, Selected False, Rank: 228.000\n",
      "Column: 327, Selected False, Rank: 252.000\n",
      "Column: 328, Selected False, Rank: 227.000\n",
      "Column: 329, Selected False, Rank: 251.000\n",
      "Column: 330, Selected False, Rank: 226.000\n",
      "Column: 331, Selected False, Rank: 364.000\n",
      "Column: 332, Selected False, Rank: 284.000\n",
      "Column: 333, Selected False, Rank: 282.000\n",
      "Column: 334, Selected False, Rank: 285.000\n",
      "Column: 335, Selected False, Rank: 280.000\n",
      "Column: 336, Selected False, Rank: 229.000\n",
      "Column: 337, Selected False, Rank: 263.000\n",
      "Column: 338, Selected False, Rank: 260.000\n",
      "Column: 339, Selected False, Rank: 277.000\n",
      "Column: 340, Selected False, Rank: 278.000\n",
      "Column: 341, Selected False, Rank: 246.000\n",
      "Column: 342, Selected False, Rank: 279.000\n",
      "Column: 343, Selected False, Rank: 281.000\n",
      "Column: 344, Selected False, Rank: 267.000\n",
      "Column: 345, Selected False, Rank: 247.000\n",
      "Column: 346, Selected False, Rank: 254.000\n",
      "Column: 347, Selected False, Rank: 271.000\n",
      "Column: 348, Selected False, Rank: 276.000\n",
      "Column: 349, Selected False, Rank: 275.000\n",
      "Column: 350, Selected False, Rank: 270.000\n",
      "Column: 351, Selected False, Rank: 272.000\n",
      "Column: 352, Selected False, Rank: 85.000\n",
      "Column: 353, Selected False, Rank: 152.000\n",
      "Column: 354, Selected False, Rank: 26.000\n",
      "Column: 355, Selected False, Rank: 29.000\n",
      "Column: 356, Selected False, Rank: 20.000\n",
      "Column: 357, Selected False, Rank: 189.000\n",
      "Column: 358, Selected False, Rank: 185.000\n",
      "Column: 359, Selected False, Rank: 22.000\n",
      "Column: 360, Selected False, Rank: 167.000\n",
      "Column: 361, Selected False, Rank: 114.000\n",
      "Column: 362, Selected False, Rank: 115.000\n",
      "Column: 363, Selected False, Rank: 69.000\n",
      "Column: 364, Selected False, Rank: 113.000\n",
      "Column: 365, Selected False, Rank: 171.000\n",
      "Column: 366, Selected False, Rank: 122.000\n",
      "Column: 367, Selected False, Rank: 365.000\n",
      "Column: 368, Selected True, Rank: 1.000\n",
      "Column: 369, Selected True, Rank: 1.000\n",
      "Column: 370, Selected True, Rank: 1.000\n",
      "Column: 371, Selected True, Rank: 1.000\n",
      "Column: 372, Selected True, Rank: 1.000\n",
      "Column: 373, Selected True, Rank: 1.000\n",
      "Column: 374, Selected True, Rank: 1.000\n",
      "Column: 375, Selected False, Rank: 322.000\n",
      "Column: 376, Selected False, Rank: 324.000\n",
      "Column: 377, Selected False, Rank: 323.000\n",
      "Column: 378, Selected False, Rank: 42.000\n",
      "Column: 379, Selected False, Rank: 177.000\n",
      "Column: 380, Selected False, Rank: 116.000\n",
      "Column: 381, Selected False, Rank: 140.000\n",
      "Column: 382, Selected False, Rank: 117.000\n",
      "Column: 383, Selected False, Rank: 10.000\n",
      "Column: 384, Selected False, Rank: 17.000\n",
      "Column: 385, Selected False, Rank: 188.000\n",
      "Column: 386, Selected False, Rank: 3.000\n",
      "Column: 387, Selected False, Rank: 174.000\n"
     ]
    }
   ],
   "source": [
    "# summarize all features. Here I'll search for the 24 variables \n",
    "#selected by the rfecv that are ranked as 1. These will be the features\n",
    "#I'll use in the first model\n",
    "for i in range(X_train.shape[1]):\n",
    "\tprint('Column: %d, Selected %s, Rank: %.3f' % (i, rfecv.support_[i], rfecv.ranking_[i]))"
   ]
  },
  {
   "cell_type": "code",
   "execution_count": 44,
   "metadata": {},
   "outputs": [
    {
     "data": {
      "text/plain": [
       "42"
      ]
     },
     "execution_count": 44,
     "metadata": {},
     "output_type": "execute_result"
    }
   ],
   "source": [
    "#finding the index for SalePrice\n",
    "\n",
    "train.columns.get_loc('SalePrice')"
   ]
  },
  {
   "cell_type": "code",
   "execution_count": 45,
   "metadata": {},
   "outputs": [],
   "source": [
    "#list with selected features and the target variable\n",
    "\n",
    "feat=[16,17,18,19,63,64,76,77,118,125,126,157,162,177,182,231,232,\n",
    "     368,369,370,371,372,373,374,42]"
   ]
  },
  {
   "cell_type": "code",
   "execution_count": 46,
   "metadata": {},
   "outputs": [],
   "source": [
    "#saving datasets only with the selected features\n",
    "\n",
    "train_new=train.iloc[:, feat]\n",
    "test_new=test.iloc[:, feat]"
   ]
  },
  {
   "cell_type": "markdown",
   "metadata": {},
   "source": [
    "## Prediction"
   ]
  },
  {
   "cell_type": "markdown",
   "metadata": {},
   "source": [
    "<strong> Model 1: Multiple Linear Regression </strong>"
   ]
  },
  {
   "cell_type": "code",
   "execution_count": 47,
   "metadata": {},
   "outputs": [],
   "source": [
    "#Separating X and y\n",
    "X_train_new=train_new.loc[:,train_new.columns != 'SalePrice']\n",
    "y_train_new=train_new['SalePrice']\n",
    "\n",
    "X_test_new=test_new.loc[:,test_new.columns != 'SalePrice']\n",
    "y_test_new=test_new['SalePrice']"
   ]
  },
  {
   "cell_type": "code",
   "execution_count": 48,
   "metadata": {},
   "outputs": [],
   "source": [
    "#Creating the model\n",
    "linear_reg= LinearRegression(normalize= False, fit_intercept= True)"
   ]
  },
  {
   "cell_type": "code",
   "execution_count": 49,
   "metadata": {},
   "outputs": [],
   "source": [
    "#Training the model\n",
    "model1=linear_reg.fit(X_train_new, y_train_new)"
   ]
  },
  {
   "cell_type": "code",
   "execution_count": 50,
   "metadata": {},
   "outputs": [
    {
     "name": "stdout",
     "output_type": "stream",
     "text": [
      "Feature: 0, Score: 0.42816\n",
      "Feature: 1, Score: 0.12058\n",
      "Feature: 2, Score: -0.10160\n",
      "Feature: 3, Score: 0.42657\n",
      "Feature: 4, Score: -0.05093\n",
      "Feature: 5, Score: 0.39149\n",
      "Feature: 6, Score: -0.00557\n",
      "Feature: 7, Score: -0.60823\n",
      "Feature: 8, Score: -0.01325\n",
      "Feature: 9, Score: 0.67559\n",
      "Feature: 10, Score: 0.90176\n",
      "Feature: 11, Score: -0.44437\n",
      "Feature: 12, Score: -0.02342\n",
      "Feature: 13, Score: -0.13612\n",
      "Feature: 14, Score: -0.05658\n",
      "Feature: 15, Score: -0.00000\n",
      "Feature: 16, Score: -1.52322\n",
      "Feature: 17, Score: 0.00000\n",
      "Feature: 18, Score: -0.51675\n",
      "Feature: 19, Score: -1.56197\n",
      "Feature: 20, Score: 0.39158\n",
      "Feature: 21, Score: -2.06407\n",
      "Feature: 22, Score: -0.53674\n",
      "Feature: 23, Score: -0.62770\n"
     ]
    }
   ],
   "source": [
    "# getting the importance of the variables (checking the coeficients)\n",
    "importance_mod1 = model1.coef_\n",
    "\n",
    "# summarize feature importance\n",
    "for i,v in enumerate(importance_mod1):\n",
    "    print('Feature: %0d, Score: %.5f' % (i,v))"
   ]
  },
  {
   "cell_type": "code",
   "execution_count": 51,
   "metadata": {},
   "outputs": [],
   "source": [
    "#Taking off features that presented score=0\n",
    "#saving datasets only with the selected features\n",
    "feat_drop=[15,17]\n",
    "train_new.drop(train_new.iloc[:,feat_drop], axis = 1, inplace=True)\n",
    "test_new.drop(test_new.iloc[:,feat_drop], axis = 1, inplace=True)"
   ]
  },
  {
   "cell_type": "code",
   "execution_count": 52,
   "metadata": {},
   "outputs": [],
   "source": [
    "#Separating X and y again\n",
    "X_train_new=train_new.loc[:,train_new.columns != 'SalePrice']\n",
    "y_train_new=train_new['SalePrice']\n",
    "\n",
    "X_test_new=test_new.loc[:,test_new.columns != 'SalePrice']\n",
    "y_test_new=test_new['SalePrice']"
   ]
  },
  {
   "cell_type": "code",
   "execution_count": 53,
   "metadata": {},
   "outputs": [],
   "source": [
    "#Training the model again\n",
    "model1=linear_reg.fit(X_train_new, y_train_new)"
   ]
  },
  {
   "cell_type": "code",
   "execution_count": 54,
   "metadata": {},
   "outputs": [],
   "source": [
    "#feature names\n",
    "features_mod1=X_train_new.columns"
   ]
  },
  {
   "cell_type": "code",
   "execution_count": 55,
   "metadata": {},
   "outputs": [
    {
     "data": {
      "text/plain": [
       "0.591366333627563"
      ]
     },
     "execution_count": 55,
     "metadata": {},
     "output_type": "execute_result"
    }
   ],
   "source": [
    "#R-Square\n",
    "r2_score(y_test_new, model1.predict(X_test_new))"
   ]
  },
  {
   "cell_type": "code",
   "execution_count": 56,
   "metadata": {},
   "outputs": [
    {
     "data": {
      "text/html": [
       "<div>\n",
       "<style scoped>\n",
       "    .dataframe tbody tr th:only-of-type {\n",
       "        vertical-align: middle;\n",
       "    }\n",
       "\n",
       "    .dataframe tbody tr th {\n",
       "        vertical-align: top;\n",
       "    }\n",
       "\n",
       "    .dataframe thead th {\n",
       "        text-align: right;\n",
       "    }\n",
       "</style>\n",
       "<table border=\"1\" class=\"dataframe\">\n",
       "  <thead>\n",
       "    <tr style=\"text-align: right;\">\n",
       "      <th></th>\n",
       "      <th>mod1_coefficients</th>\n",
       "    </tr>\n",
       "  </thead>\n",
       "  <tbody>\n",
       "    <tr>\n",
       "      <th>1stFlrSF</th>\n",
       "      <td>1.814253e+13</td>\n",
       "    </tr>\n",
       "    <tr>\n",
       "      <th>2ndFlrSF</th>\n",
       "      <td>2.059081e+13</td>\n",
       "    </tr>\n",
       "    <tr>\n",
       "      <th>LowQualFinSF</th>\n",
       "      <td>2.245252e+12</td>\n",
       "    </tr>\n",
       "    <tr>\n",
       "      <th>GrLivArea</th>\n",
       "      <td>-2.349559e+13</td>\n",
       "    </tr>\n",
       "    <tr>\n",
       "      <th>MSZoning_RM</th>\n",
       "      <td>-5.045026e-02</td>\n",
       "    </tr>\n",
       "  </tbody>\n",
       "</table>\n",
       "</div>"
      ],
      "text/plain": [
       "              mod1_coefficients\n",
       "1stFlrSF           1.814253e+13\n",
       "2ndFlrSF           2.059081e+13\n",
       "LowQualFinSF       2.245252e+12\n",
       "GrLivArea         -2.349559e+13\n",
       "MSZoning_RM       -5.045026e-02"
      ]
     },
     "execution_count": 56,
     "metadata": {},
     "output_type": "execute_result"
    }
   ],
   "source": [
    "#OLS Coeficients\n",
    "coef_mod1=pd.DataFrame(model1.coef_, index = X_train_new.columns,\n",
    "                       columns=['mod1_coefficients'])\n",
    "coef_mod1.head()"
   ]
  },
  {
   "cell_type": "markdown",
   "metadata": {},
   "source": [
    "<strong> Model 2: Lasso Regression </strong>"
   ]
  },
  {
   "cell_type": "code",
   "execution_count": 57,
   "metadata": {},
   "outputs": [],
   "source": [
    "# Creating LASSO model with the complete datasets\n",
    "model2 = LassoCV(alphas = [1, 0.1, 0.001, 0.0005]).fit(X_train, y_train)"
   ]
  },
  {
   "cell_type": "code",
   "execution_count": 58,
   "metadata": {},
   "outputs": [
    {
     "data": {
      "text/plain": [
       "0.8137327476629372"
      ]
     },
     "execution_count": 58,
     "metadata": {},
     "output_type": "execute_result"
    }
   ],
   "source": [
    "#R2 of lasso model\n",
    "r2_score(y_test, model2.predict(X_test))"
   ]
  },
  {
   "cell_type": "code",
   "execution_count": 59,
   "metadata": {},
   "outputs": [
    {
     "data": {
      "text/html": [
       "<div>\n",
       "<style scoped>\n",
       "    .dataframe tbody tr th:only-of-type {\n",
       "        vertical-align: middle;\n",
       "    }\n",
       "\n",
       "    .dataframe tbody tr th {\n",
       "        vertical-align: top;\n",
       "    }\n",
       "\n",
       "    .dataframe thead th {\n",
       "        text-align: right;\n",
       "    }\n",
       "</style>\n",
       "<table border=\"1\" class=\"dataframe\">\n",
       "  <thead>\n",
       "    <tr style=\"text-align: right;\">\n",
       "      <th></th>\n",
       "      <th>mod2_coefficients</th>\n",
       "    </tr>\n",
       "  </thead>\n",
       "  <tbody>\n",
       "    <tr>\n",
       "      <th>LotFrontage</th>\n",
       "      <td>0.047236</td>\n",
       "    </tr>\n",
       "    <tr>\n",
       "      <th>LotArea</th>\n",
       "      <td>0.024836</td>\n",
       "    </tr>\n",
       "    <tr>\n",
       "      <th>OverallQual</th>\n",
       "      <td>-0.004249</td>\n",
       "    </tr>\n",
       "    <tr>\n",
       "      <th>OverallCond</th>\n",
       "      <td>-0.008934</td>\n",
       "    </tr>\n",
       "    <tr>\n",
       "      <th>MasVnrArea</th>\n",
       "      <td>0.013569</td>\n",
       "    </tr>\n",
       "  </tbody>\n",
       "</table>\n",
       "</div>"
      ],
      "text/plain": [
       "             mod2_coefficients\n",
       "LotFrontage           0.047236\n",
       "LotArea               0.024836\n",
       "OverallQual          -0.004249\n",
       "OverallCond          -0.008934\n",
       "MasVnrArea            0.013569"
      ]
     },
     "execution_count": 59,
     "metadata": {},
     "output_type": "execute_result"
    }
   ],
   "source": [
    "#Lasso model coeficients\n",
    "coef_mod2 = pd.DataFrame(model2.coef_, index = X_train.columns, \n",
    "                         columns=['mod2_coefficients'])\n",
    "coef_mod2.head()"
   ]
  },
  {
   "cell_type": "code",
   "execution_count": 60,
   "metadata": {},
   "outputs": [],
   "source": [
    "#feature names\n",
    "features=X_train.columns"
   ]
  },
  {
   "cell_type": "code",
   "execution_count": 61,
   "metadata": {},
   "outputs": [],
   "source": [
    "#saving array with the absolute number of the coeficients\n",
    "importance_mod2=np.abs(model2.coef_)"
   ]
  },
  {
   "cell_type": "code",
   "execution_count": 62,
   "metadata": {},
   "outputs": [],
   "source": [
    "#features that survived Lasso regression:\n",
    "lasso_feat=np.array(features)[importance_mod2!=0]"
   ]
  },
  {
   "cell_type": "code",
   "execution_count": 63,
   "metadata": {},
   "outputs": [
    {
     "data": {
      "text/plain": [
       "154"
      ]
     },
     "execution_count": 63,
     "metadata": {},
     "output_type": "execute_result"
    }
   ],
   "source": [
    "#How many features survived the lasso regression?\n",
    "len(lasso_feat)"
   ]
  },
  {
   "cell_type": "markdown",
   "metadata": {},
   "source": [
    "The problem with this model is that it still has too many variables, which can make generalization difficult. I may also have some overfitting in this model because the R2 is pretty high. \n",
    "\n",
    "The RFE determined that only 24 features would be enough. Let's see which were the 24 most important features in this model:"
   ]
  },
  {
   "cell_type": "code",
   "execution_count": 64,
   "metadata": {},
   "outputs": [],
   "source": [
    "# What are the 24 most important coeficients? Saving as dataframe\n",
    "top_24=pd.DataFrame(np.abs(coef_mod2['mod2_coefficients'].sort_values(ascending = False)).head(24))"
   ]
  },
  {
   "cell_type": "markdown",
   "metadata": {},
   "source": [
    "<strong> Model 3: Multiple Linear Regression with features selected from Lasso Regression </strong>"
   ]
  },
  {
   "cell_type": "code",
   "execution_count": 65,
   "metadata": {},
   "outputs": [],
   "source": [
    "#Creating list with the features I'll use in this model\n",
    "feat_mod3=list(top_24.index)"
   ]
  },
  {
   "cell_type": "code",
   "execution_count": 66,
   "metadata": {},
   "outputs": [],
   "source": [
    "#Separating X and y\n",
    "X_train_mod3=train[feat_mod3]\n",
    "y_train_mod3=train['SalePrice']\n",
    "\n",
    "X_test_mod3=test[feat_mod3]\n",
    "y_test_mod3=test['SalePrice']"
   ]
  },
  {
   "cell_type": "code",
   "execution_count": 67,
   "metadata": {},
   "outputs": [],
   "source": [
    "#Training model 3\n",
    "model3=linear_reg.fit(X_train_mod3, y_train_mod3)"
   ]
  },
  {
   "cell_type": "code",
   "execution_count": 68,
   "metadata": {},
   "outputs": [
    {
     "data": {
      "text/plain": [
       "0.7862075499436052"
      ]
     },
     "execution_count": 68,
     "metadata": {},
     "output_type": "execute_result"
    }
   ],
   "source": [
    "#R-Square of model 3\n",
    "r2_score(y_test_mod3, model3.predict(X_test_mod3))"
   ]
  },
  {
   "cell_type": "code",
   "execution_count": 69,
   "metadata": {},
   "outputs": [],
   "source": [
    "# Colecting x e y \n",
    "X_stats = houses[feat_mod3]\n",
    "#y = houses['SalePrice'].values"
   ]
  },
  {
   "cell_type": "code",
   "execution_count": 70,
   "metadata": {},
   "outputs": [],
   "source": [
    "#with statsmodels a constant needs to be created and included in\n",
    "#the model\n",
    "Xc_stats = sm.add_constant(X_train_mod3)\n",
    "model_stats= sm.OLS(y_train_mod3, Xc_stats)\n",
    "model_check = model_stats.fit()"
   ]
  },
  {
   "cell_type": "code",
   "execution_count": 71,
   "metadata": {},
   "outputs": [
    {
     "data": {
      "text/html": [
       "<table class=\"simpletable\">\n",
       "<caption>OLS Regression Results</caption>\n",
       "<tr>\n",
       "  <th>Dep. Variable:</th>        <td>SalePrice</td>    <th>  R-squared:         </th> <td>   0.795</td>\n",
       "</tr>\n",
       "<tr>\n",
       "  <th>Model:</th>                   <td>OLS</td>       <th>  Adj. R-squared:    </th> <td>   0.792</td>\n",
       "</tr>\n",
       "<tr>\n",
       "  <th>Method:</th>             <td>Least Squares</td>  <th>  F-statistic:       </th> <td>   226.1</td>\n",
       "</tr>\n",
       "<tr>\n",
       "  <th>Date:</th>             <td>Thu, 05 Aug 2021</td> <th>  Prob (F-statistic):</th>  <td>  0.00</td> \n",
       "</tr>\n",
       "<tr>\n",
       "  <th>Time:</th>                 <td>10:48:57</td>     <th>  Log-Likelihood:    </th> <td> -891.63</td>\n",
       "</tr>\n",
       "<tr>\n",
       "  <th>No. Observations:</th>      <td>  1423</td>      <th>  AIC:               </th> <td>   1833.</td>\n",
       "</tr>\n",
       "<tr>\n",
       "  <th>Df Residuals:</th>          <td>  1398</td>      <th>  BIC:               </th> <td>   1965.</td>\n",
       "</tr>\n",
       "<tr>\n",
       "  <th>Df Model:</th>              <td>    24</td>      <th>                     </th>     <td> </td>   \n",
       "</tr>\n",
       "<tr>\n",
       "  <th>Covariance Type:</th>      <td>nonrobust</td>    <th>                     </th>     <td> </td>   \n",
       "</tr>\n",
       "</table>\n",
       "<table class=\"simpletable\">\n",
       "<tr>\n",
       "            <td></td>              <th>coef</th>     <th>std err</th>      <th>t</th>      <th>P>|t|</th>  <th>[0.025</th>    <th>0.975]</th>  \n",
       "</tr>\n",
       "<tr>\n",
       "  <th>const</th>                <td>   -0.0694</td> <td>    0.056</td> <td>   -1.237</td> <td> 0.216</td> <td>   -0.179</td> <td>    0.041</td>\n",
       "</tr>\n",
       "<tr>\n",
       "  <th>GrLivArea</th>            <td>    0.2957</td> <td>    0.028</td> <td>   10.675</td> <td> 0.000</td> <td>    0.241</td> <td>    0.350</td>\n",
       "</tr>\n",
       "<tr>\n",
       "  <th>TotalBsmtSF</th>          <td>    0.2782</td> <td>    0.017</td> <td>   16.664</td> <td> 0.000</td> <td>    0.245</td> <td>    0.311</td>\n",
       "</tr>\n",
       "<tr>\n",
       "  <th>FullBath</th>             <td>    0.1819</td> <td>    0.017</td> <td>   10.608</td> <td> 0.000</td> <td>    0.148</td> <td>    0.216</td>\n",
       "</tr>\n",
       "<tr>\n",
       "  <th>GarageCars</th>           <td>    0.1895</td> <td>    0.028</td> <td>    6.698</td> <td> 0.000</td> <td>    0.134</td> <td>    0.245</td>\n",
       "</tr>\n",
       "<tr>\n",
       "  <th>GarageYrBlt_1972.0</th>   <td>    0.2195</td> <td>    0.128</td> <td>    1.717</td> <td> 0.086</td> <td>   -0.031</td> <td>    0.470</td>\n",
       "</tr>\n",
       "<tr>\n",
       "  <th>GarageYrBlt_1939.0</th>   <td>    0.1664</td> <td>    0.156</td> <td>    1.067</td> <td> 0.286</td> <td>   -0.139</td> <td>    0.472</td>\n",
       "</tr>\n",
       "<tr>\n",
       "  <th>GarageYrBlt_1934.0</th>   <td>    0.7298</td> <td>    0.326</td> <td>    2.237</td> <td> 0.025</td> <td>    0.090</td> <td>    1.370</td>\n",
       "</tr>\n",
       "<tr>\n",
       "  <th>LandContour_Bnk</th>      <td>    0.0586</td> <td>    0.064</td> <td>    0.916</td> <td> 0.360</td> <td>   -0.067</td> <td>    0.184</td>\n",
       "</tr>\n",
       "<tr>\n",
       "  <th>Exterior2nd_Stucco</th>   <td>    0.2048</td> <td>    0.095</td> <td>    2.152</td> <td> 0.032</td> <td>    0.018</td> <td>    0.392</td>\n",
       "</tr>\n",
       "<tr>\n",
       "  <th>HalfBath</th>             <td>    0.1264</td> <td>    0.015</td> <td>    8.709</td> <td> 0.000</td> <td>    0.098</td> <td>    0.155</td>\n",
       "</tr>\n",
       "<tr>\n",
       "  <th>GarageType_BuiltIn</th>   <td>    0.0938</td> <td>    0.053</td> <td>    1.779</td> <td> 0.075</td> <td>   -0.010</td> <td>    0.197</td>\n",
       "</tr>\n",
       "<tr>\n",
       "  <th>GarageYrBlt_1958.0</th>   <td>    0.1404</td> <td>    0.109</td> <td>    1.284</td> <td> 0.199</td> <td>   -0.074</td> <td>    0.355</td>\n",
       "</tr>\n",
       "<tr>\n",
       "  <th>GarageYrBlt_1979.0</th>   <td>    0.1490</td> <td>    0.124</td> <td>    1.199</td> <td> 0.231</td> <td>   -0.095</td> <td>    0.393</td>\n",
       "</tr>\n",
       "<tr>\n",
       "  <th>Neighborhood_BrDale</th>  <td>    0.1602</td> <td>    0.120</td> <td>    1.340</td> <td> 0.181</td> <td>   -0.074</td> <td>    0.395</td>\n",
       "</tr>\n",
       "<tr>\n",
       "  <th>MSZoning_FV</th>          <td>    0.1240</td> <td>    0.061</td> <td>    2.035</td> <td> 0.042</td> <td>    0.004</td> <td>    0.243</td>\n",
       "</tr>\n",
       "<tr>\n",
       "  <th>TotRmsAbvGrd</th>         <td>   -0.0536</td> <td>    0.022</td> <td>   -2.452</td> <td> 0.014</td> <td>   -0.097</td> <td>   -0.011</td>\n",
       "</tr>\n",
       "<tr>\n",
       "  <th>Fence_GdPrv</th>          <td>    0.1004</td> <td>    0.062</td> <td>    1.625</td> <td> 0.104</td> <td>   -0.021</td> <td>    0.222</td>\n",
       "</tr>\n",
       "<tr>\n",
       "  <th>BsmtFullBath</th>         <td>    0.0551</td> <td>    0.017</td> <td>    3.316</td> <td> 0.001</td> <td>    0.022</td> <td>    0.088</td>\n",
       "</tr>\n",
       "<tr>\n",
       "  <th>BsmtFinSF1</th>           <td>    0.0948</td> <td>    0.018</td> <td>    5.293</td> <td> 0.000</td> <td>    0.060</td> <td>    0.130</td>\n",
       "</tr>\n",
       "<tr>\n",
       "  <th>YearBuilt_1901-1950</th>  <td>   -0.0461</td> <td>    0.032</td> <td>   -1.440</td> <td> 0.150</td> <td>   -0.109</td> <td>    0.017</td>\n",
       "</tr>\n",
       "<tr>\n",
       "  <th>GarageArea</th>           <td>    0.0909</td> <td>    0.027</td> <td>    3.318</td> <td> 0.001</td> <td>    0.037</td> <td>    0.145</td>\n",
       "</tr>\n",
       "<tr>\n",
       "  <th>Fireplaces</th>           <td>    0.1028</td> <td>    0.014</td> <td>    7.186</td> <td> 0.000</td> <td>    0.075</td> <td>    0.131</td>\n",
       "</tr>\n",
       "<tr>\n",
       "  <th>LandSlope_Gtl</th>        <td>    0.0392</td> <td>    0.057</td> <td>    0.691</td> <td> 0.490</td> <td>   -0.072</td> <td>    0.151</td>\n",
       "</tr>\n",
       "<tr>\n",
       "  <th>Neighborhood_NridgHt</th> <td>    0.1277</td> <td>    0.056</td> <td>    2.283</td> <td> 0.023</td> <td>    0.018</td> <td>    0.237</td>\n",
       "</tr>\n",
       "</table>\n",
       "<table class=\"simpletable\">\n",
       "<tr>\n",
       "  <th>Omnibus:</th>       <td>282.807</td> <th>  Durbin-Watson:     </th> <td>   1.986</td> \n",
       "</tr>\n",
       "<tr>\n",
       "  <th>Prob(Omnibus):</th> <td> 0.000</td>  <th>  Jarque-Bera (JB):  </th> <td> 743.284</td> \n",
       "</tr>\n",
       "<tr>\n",
       "  <th>Skew:</th>          <td>-1.045</td>  <th>  Prob(JB):          </th> <td>3.96e-162</td>\n",
       "</tr>\n",
       "<tr>\n",
       "  <th>Kurtosis:</th>      <td> 5.858</td>  <th>  Cond. No.          </th> <td>    53.2</td> \n",
       "</tr>\n",
       "</table><br/><br/>Warnings:<br/>[1] Standard Errors assume that the covariance matrix of the errors is correctly specified."
      ],
      "text/plain": [
       "<class 'statsmodels.iolib.summary.Summary'>\n",
       "\"\"\"\n",
       "                            OLS Regression Results                            \n",
       "==============================================================================\n",
       "Dep. Variable:              SalePrice   R-squared:                       0.795\n",
       "Model:                            OLS   Adj. R-squared:                  0.792\n",
       "Method:                 Least Squares   F-statistic:                     226.1\n",
       "Date:                Thu, 05 Aug 2021   Prob (F-statistic):               0.00\n",
       "Time:                        10:48:57   Log-Likelihood:                -891.63\n",
       "No. Observations:                1423   AIC:                             1833.\n",
       "Df Residuals:                    1398   BIC:                             1965.\n",
       "Df Model:                          24                                         \n",
       "Covariance Type:            nonrobust                                         \n",
       "========================================================================================\n",
       "                           coef    std err          t      P>|t|      [0.025      0.975]\n",
       "----------------------------------------------------------------------------------------\n",
       "const                   -0.0694      0.056     -1.237      0.216      -0.179       0.041\n",
       "GrLivArea                0.2957      0.028     10.675      0.000       0.241       0.350\n",
       "TotalBsmtSF              0.2782      0.017     16.664      0.000       0.245       0.311\n",
       "FullBath                 0.1819      0.017     10.608      0.000       0.148       0.216\n",
       "GarageCars               0.1895      0.028      6.698      0.000       0.134       0.245\n",
       "GarageYrBlt_1972.0       0.2195      0.128      1.717      0.086      -0.031       0.470\n",
       "GarageYrBlt_1939.0       0.1664      0.156      1.067      0.286      -0.139       0.472\n",
       "GarageYrBlt_1934.0       0.7298      0.326      2.237      0.025       0.090       1.370\n",
       "LandContour_Bnk          0.0586      0.064      0.916      0.360      -0.067       0.184\n",
       "Exterior2nd_Stucco       0.2048      0.095      2.152      0.032       0.018       0.392\n",
       "HalfBath                 0.1264      0.015      8.709      0.000       0.098       0.155\n",
       "GarageType_BuiltIn       0.0938      0.053      1.779      0.075      -0.010       0.197\n",
       "GarageYrBlt_1958.0       0.1404      0.109      1.284      0.199      -0.074       0.355\n",
       "GarageYrBlt_1979.0       0.1490      0.124      1.199      0.231      -0.095       0.393\n",
       "Neighborhood_BrDale      0.1602      0.120      1.340      0.181      -0.074       0.395\n",
       "MSZoning_FV              0.1240      0.061      2.035      0.042       0.004       0.243\n",
       "TotRmsAbvGrd            -0.0536      0.022     -2.452      0.014      -0.097      -0.011\n",
       "Fence_GdPrv              0.1004      0.062      1.625      0.104      -0.021       0.222\n",
       "BsmtFullBath             0.0551      0.017      3.316      0.001       0.022       0.088\n",
       "BsmtFinSF1               0.0948      0.018      5.293      0.000       0.060       0.130\n",
       "YearBuilt_1901-1950     -0.0461      0.032     -1.440      0.150      -0.109       0.017\n",
       "GarageArea               0.0909      0.027      3.318      0.001       0.037       0.145\n",
       "Fireplaces               0.1028      0.014      7.186      0.000       0.075       0.131\n",
       "LandSlope_Gtl            0.0392      0.057      0.691      0.490      -0.072       0.151\n",
       "Neighborhood_NridgHt     0.1277      0.056      2.283      0.023       0.018       0.237\n",
       "==============================================================================\n",
       "Omnibus:                      282.807   Durbin-Watson:                   1.986\n",
       "Prob(Omnibus):                  0.000   Jarque-Bera (JB):              743.284\n",
       "Skew:                          -1.045   Prob(JB):                    3.96e-162\n",
       "Kurtosis:                       5.858   Cond. No.                         53.2\n",
       "==============================================================================\n",
       "\n",
       "Warnings:\n",
       "[1] Standard Errors assume that the covariance matrix of the errors is correctly specified.\n",
       "\"\"\""
      ]
     },
     "execution_count": 71,
     "metadata": {},
     "output_type": "execute_result"
    }
   ],
   "source": [
    "model_check.summary()"
   ]
  },
  {
   "cell_type": "code",
   "execution_count": 72,
   "metadata": {},
   "outputs": [],
   "source": [
    "#Creating a list of variables that were not significant to take off from\n",
    "#from the model\n",
    "\n",
    "feat_off=['GarageYrBlt_1939.0', 'LandContour_Bnk','GarageType_BuiltIn',\n",
    "         'GarageYrBlt_1958.0', 'GarageYrBlt_1979.0', 'Neighborhood_BrDale',\n",
    "         'YearBuilt_1901-1950','LandSlope_Gtl', 'Neighborhood_NridgHt']"
   ]
  },
  {
   "cell_type": "markdown",
   "metadata": {},
   "source": [
    "<strong> Model 4: Multiple Linear Regression taking off features that were not statistically significant </strong>"
   ]
  },
  {
   "cell_type": "code",
   "execution_count": 73,
   "metadata": {},
   "outputs": [
    {
     "data": {
      "text/plain": [
       "15"
      ]
     },
     "execution_count": 73,
     "metadata": {},
     "output_type": "execute_result"
    }
   ],
   "source": [
    "#New list of features for model 4. I'll use the list of features\n",
    "#for model 3 and take off the ones in the feat_off list\n",
    "feat_mod4=[i for i in feat_mod3 if i not in feat_off]\n",
    "\n",
    "#how many features will I have in the new model?\n",
    "len(feat_mod4)"
   ]
  },
  {
   "cell_type": "code",
   "execution_count": 74,
   "metadata": {},
   "outputs": [],
   "source": [
    "#Separating X and y for model 4\n",
    "X_train_mod4=train[feat_mod4]\n",
    "y_train_mod4=train['SalePrice']\n",
    "\n",
    "X_test_mod4=test[feat_mod4]\n",
    "y_test_mod4=test['SalePrice']"
   ]
  },
  {
   "cell_type": "code",
   "execution_count": 75,
   "metadata": {},
   "outputs": [],
   "source": [
    "#Training model 4\n",
    "model4=linear_reg.fit(X_train_mod4, y_train_mod4)"
   ]
  },
  {
   "cell_type": "code",
   "execution_count": 76,
   "metadata": {},
   "outputs": [
    {
     "data": {
      "text/plain": [
       "0.7880119772376738"
      ]
     },
     "execution_count": 76,
     "metadata": {},
     "output_type": "execute_result"
    }
   ],
   "source": [
    "#R-Square of model 4\n",
    "r2_score(y_test_mod4, model4.predict(X_test_mod4))"
   ]
  },
  {
   "cell_type": "markdown",
   "metadata": {},
   "source": [
    "I even got a slight improvement after taking the irrelevant variables! "
   ]
  },
  {
   "cell_type": "markdown",
   "metadata": {},
   "source": [
    "## Interpreting results"
   ]
  },
  {
   "cell_type": "markdown",
   "metadata": {},
   "source": [
    "Now that I've done the predictions I'll run an OLS model with the dataset houses (that contains both training and test datasets) with the features used on model 4 in order to interpret the relationship between the sale price and these features. In other words, I want to understand what drives the prices of the houses in Ames.\n",
    "\n",
    "In order to do that I'll use the statsmodels package because it gives a better summary of the regression outcome."
   ]
  },
  {
   "cell_type": "code",
   "execution_count": 77,
   "metadata": {},
   "outputs": [],
   "source": [
    "# Colecting x e y \n",
    "X = houses[feat_mod4]\n",
    "y = houses['SalePrice'].values"
   ]
  },
  {
   "cell_type": "code",
   "execution_count": 78,
   "metadata": {},
   "outputs": [],
   "source": [
    "#creating the constant\n",
    "Xc = sm.add_constant(X)\n",
    "\n",
    "#model for interpretation\n",
    "model_interpret= sm.OLS(y, Xc)\n",
    "model5 = model_interpret.fit()"
   ]
  },
  {
   "cell_type": "code",
   "execution_count": 79,
   "metadata": {},
   "outputs": [
    {
     "data": {
      "text/html": [
       "<table class=\"simpletable\">\n",
       "<caption>OLS Regression Results</caption>\n",
       "<tr>\n",
       "  <th>Dep. Variable:</th>            <td>y</td>        <th>  R-squared:         </th> <td>   0.791</td>\n",
       "</tr>\n",
       "<tr>\n",
       "  <th>Model:</th>                   <td>OLS</td>       <th>  Adj. R-squared:    </th> <td>   0.790</td>\n",
       "</tr>\n",
       "<tr>\n",
       "  <th>Method:</th>             <td>Least Squares</td>  <th>  F-statistic:       </th> <td>   710.8</td>\n",
       "</tr>\n",
       "<tr>\n",
       "  <th>Date:</th>             <td>Thu, 05 Aug 2021</td> <th>  Prob (F-statistic):</th>  <td>  0.00</td> \n",
       "</tr>\n",
       "<tr>\n",
       "  <th>Time:</th>                 <td>10:48:58</td>     <th>  Log-Likelihood:    </th> <td> -1806.3</td>\n",
       "</tr>\n",
       "<tr>\n",
       "  <th>No. Observations:</th>      <td>  2838</td>      <th>  AIC:               </th> <td>   3645.</td>\n",
       "</tr>\n",
       "<tr>\n",
       "  <th>Df Residuals:</th>          <td>  2822</td>      <th>  BIC:               </th> <td>   3740.</td>\n",
       "</tr>\n",
       "<tr>\n",
       "  <th>Df Model:</th>              <td>    15</td>      <th>                     </th>     <td> </td>   \n",
       "</tr>\n",
       "<tr>\n",
       "  <th>Covariance Type:</th>      <td>nonrobust</td>    <th>                     </th>     <td> </td>   \n",
       "</tr>\n",
       "</table>\n",
       "<table class=\"simpletable\">\n",
       "<tr>\n",
       "           <td></td>             <th>coef</th>     <th>std err</th>      <th>t</th>      <th>P>|t|</th>  <th>[0.025</th>    <th>0.975]</th>  \n",
       "</tr>\n",
       "<tr>\n",
       "  <th>const</th>              <td>   -0.0142</td> <td>    0.009</td> <td>   -1.550</td> <td> 0.121</td> <td>   -0.032</td> <td>    0.004</td>\n",
       "</tr>\n",
       "<tr>\n",
       "  <th>GrLivArea</th>          <td>    0.2958</td> <td>    0.020</td> <td>   15.131</td> <td> 0.000</td> <td>    0.257</td> <td>    0.334</td>\n",
       "</tr>\n",
       "<tr>\n",
       "  <th>TotalBsmtSF</th>        <td>    0.2756</td> <td>    0.012</td> <td>   23.287</td> <td> 0.000</td> <td>    0.252</td> <td>    0.299</td>\n",
       "</tr>\n",
       "<tr>\n",
       "  <th>FullBath</th>           <td>    0.1853</td> <td>    0.012</td> <td>   15.344</td> <td> 0.000</td> <td>    0.162</td> <td>    0.209</td>\n",
       "</tr>\n",
       "<tr>\n",
       "  <th>GarageCars</th>         <td>    0.1889</td> <td>    0.020</td> <td>    9.391</td> <td> 0.000</td> <td>    0.149</td> <td>    0.228</td>\n",
       "</tr>\n",
       "<tr>\n",
       "  <th>GarageYrBlt_1972.0</th> <td>    0.2313</td> <td>    0.091</td> <td>    2.553</td> <td> 0.011</td> <td>    0.054</td> <td>    0.409</td>\n",
       "</tr>\n",
       "<tr>\n",
       "  <th>GarageYrBlt_1934.0</th> <td>    0.1913</td> <td>    0.230</td> <td>    0.833</td> <td> 0.405</td> <td>   -0.259</td> <td>    0.642</td>\n",
       "</tr>\n",
       "<tr>\n",
       "  <th>Exterior2nd_Stucco</th> <td>    0.1377</td> <td>    0.068</td> <td>    2.015</td> <td> 0.044</td> <td>    0.004</td> <td>    0.272</td>\n",
       "</tr>\n",
       "<tr>\n",
       "  <th>HalfBath</th>           <td>    0.1281</td> <td>    0.010</td> <td>   12.466</td> <td> 0.000</td> <td>    0.108</td> <td>    0.148</td>\n",
       "</tr>\n",
       "<tr>\n",
       "  <th>MSZoning_FV</th>        <td>    0.0641</td> <td>    0.041</td> <td>    1.556</td> <td> 0.120</td> <td>   -0.017</td> <td>    0.145</td>\n",
       "</tr>\n",
       "<tr>\n",
       "  <th>TotRmsAbvGrd</th>       <td>   -0.0568</td> <td>    0.015</td> <td>   -3.678</td> <td> 0.000</td> <td>   -0.087</td> <td>   -0.027</td>\n",
       "</tr>\n",
       "<tr>\n",
       "  <th>Fence_GdPrv</th>        <td>    0.0298</td> <td>    0.044</td> <td>    0.683</td> <td> 0.495</td> <td>   -0.056</td> <td>    0.115</td>\n",
       "</tr>\n",
       "<tr>\n",
       "  <th>BsmtFullBath</th>       <td>    0.0551</td> <td>    0.012</td> <td>    4.688</td> <td> 0.000</td> <td>    0.032</td> <td>    0.078</td>\n",
       "</tr>\n",
       "<tr>\n",
       "  <th>BsmtFinSF1</th>         <td>    0.0948</td> <td>    0.013</td> <td>    7.452</td> <td> 0.000</td> <td>    0.070</td> <td>    0.120</td>\n",
       "</tr>\n",
       "<tr>\n",
       "  <th>GarageArea</th>         <td>    0.0901</td> <td>    0.020</td> <td>    4.618</td> <td> 0.000</td> <td>    0.052</td> <td>    0.128</td>\n",
       "</tr>\n",
       "<tr>\n",
       "  <th>Fireplaces</th>         <td>    0.1102</td> <td>    0.010</td> <td>   10.947</td> <td> 0.000</td> <td>    0.090</td> <td>    0.130</td>\n",
       "</tr>\n",
       "</table>\n",
       "<table class=\"simpletable\">\n",
       "<tr>\n",
       "  <th>Omnibus:</th>       <td>586.775</td> <th>  Durbin-Watson:     </th> <td>   1.974</td>\n",
       "</tr>\n",
       "<tr>\n",
       "  <th>Prob(Omnibus):</th> <td> 0.000</td>  <th>  Jarque-Bera (JB):  </th> <td>1604.676</td>\n",
       "</tr>\n",
       "<tr>\n",
       "  <th>Skew:</th>          <td>-1.089</td>  <th>  Prob(JB):          </th> <td>    0.00</td>\n",
       "</tr>\n",
       "<tr>\n",
       "  <th>Kurtosis:</th>      <td> 5.970</td>  <th>  Cond. No.          </th> <td>    52.7</td>\n",
       "</tr>\n",
       "</table><br/><br/>Warnings:<br/>[1] Standard Errors assume that the covariance matrix of the errors is correctly specified."
      ],
      "text/plain": [
       "<class 'statsmodels.iolib.summary.Summary'>\n",
       "\"\"\"\n",
       "                            OLS Regression Results                            \n",
       "==============================================================================\n",
       "Dep. Variable:                      y   R-squared:                       0.791\n",
       "Model:                            OLS   Adj. R-squared:                  0.790\n",
       "Method:                 Least Squares   F-statistic:                     710.8\n",
       "Date:                Thu, 05 Aug 2021   Prob (F-statistic):               0.00\n",
       "Time:                        10:48:58   Log-Likelihood:                -1806.3\n",
       "No. Observations:                2838   AIC:                             3645.\n",
       "Df Residuals:                    2822   BIC:                             3740.\n",
       "Df Model:                          15                                         \n",
       "Covariance Type:            nonrobust                                         \n",
       "======================================================================================\n",
       "                         coef    std err          t      P>|t|      [0.025      0.975]\n",
       "--------------------------------------------------------------------------------------\n",
       "const                 -0.0142      0.009     -1.550      0.121      -0.032       0.004\n",
       "GrLivArea              0.2958      0.020     15.131      0.000       0.257       0.334\n",
       "TotalBsmtSF            0.2756      0.012     23.287      0.000       0.252       0.299\n",
       "FullBath               0.1853      0.012     15.344      0.000       0.162       0.209\n",
       "GarageCars             0.1889      0.020      9.391      0.000       0.149       0.228\n",
       "GarageYrBlt_1972.0     0.2313      0.091      2.553      0.011       0.054       0.409\n",
       "GarageYrBlt_1934.0     0.1913      0.230      0.833      0.405      -0.259       0.642\n",
       "Exterior2nd_Stucco     0.1377      0.068      2.015      0.044       0.004       0.272\n",
       "HalfBath               0.1281      0.010     12.466      0.000       0.108       0.148\n",
       "MSZoning_FV            0.0641      0.041      1.556      0.120      -0.017       0.145\n",
       "TotRmsAbvGrd          -0.0568      0.015     -3.678      0.000      -0.087      -0.027\n",
       "Fence_GdPrv            0.0298      0.044      0.683      0.495      -0.056       0.115\n",
       "BsmtFullBath           0.0551      0.012      4.688      0.000       0.032       0.078\n",
       "BsmtFinSF1             0.0948      0.013      7.452      0.000       0.070       0.120\n",
       "GarageArea             0.0901      0.020      4.618      0.000       0.052       0.128\n",
       "Fireplaces             0.1102      0.010     10.947      0.000       0.090       0.130\n",
       "==============================================================================\n",
       "Omnibus:                      586.775   Durbin-Watson:                   1.974\n",
       "Prob(Omnibus):                  0.000   Jarque-Bera (JB):             1604.676\n",
       "Skew:                          -1.089   Prob(JB):                         0.00\n",
       "Kurtosis:                       5.970   Cond. No.                         52.7\n",
       "==============================================================================\n",
       "\n",
       "Warnings:\n",
       "[1] Standard Errors assume that the covariance matrix of the errors is correctly specified.\n",
       "\"\"\""
      ]
     },
     "execution_count": 79,
     "metadata": {},
     "output_type": "execute_result"
    }
   ],
   "source": [
    "model5.summary()"
   ]
  },
  {
   "cell_type": "markdown",
   "metadata": {},
   "source": [
    "After taking some of the variables on model 4 other 3 features became irrelevant to the model. I'll take them out to check if I get any changes on other variables again. It may worth taking them out to get a even more concise model."
   ]
  },
  {
   "cell_type": "code",
   "execution_count": 80,
   "metadata": {},
   "outputs": [],
   "source": [
    "#Second list of variables to take off:\n",
    "\n",
    "feat_off2= ['GarageYrBlt_1934.0', 'MSZoning_FV', 'Fence_GdPrv']"
   ]
  },
  {
   "cell_type": "code",
   "execution_count": 81,
   "metadata": {},
   "outputs": [],
   "source": [
    "#List of features for model 6\n",
    "feat_mod6=[i for i in feat_mod4 if i not in feat_off2]"
   ]
  },
  {
   "cell_type": "code",
   "execution_count": 82,
   "metadata": {},
   "outputs": [
    {
     "data": {
      "text/html": [
       "<table class=\"simpletable\">\n",
       "<caption>OLS Regression Results</caption>\n",
       "<tr>\n",
       "  <th>Dep. Variable:</th>            <td>y</td>        <th>  R-squared:         </th> <td>   0.790</td>\n",
       "</tr>\n",
       "<tr>\n",
       "  <th>Model:</th>                   <td>OLS</td>       <th>  Adj. R-squared:    </th> <td>   0.790</td>\n",
       "</tr>\n",
       "<tr>\n",
       "  <th>Method:</th>             <td>Least Squares</td>  <th>  F-statistic:       </th> <td>   888.1</td>\n",
       "</tr>\n",
       "<tr>\n",
       "  <th>Date:</th>             <td>Thu, 05 Aug 2021</td> <th>  Prob (F-statistic):</th>  <td>  0.00</td> \n",
       "</tr>\n",
       "<tr>\n",
       "  <th>Time:</th>                 <td>10:48:58</td>     <th>  Log-Likelihood:    </th> <td> -1808.1</td>\n",
       "</tr>\n",
       "<tr>\n",
       "  <th>No. Observations:</th>      <td>  2838</td>      <th>  AIC:               </th> <td>   3642.</td>\n",
       "</tr>\n",
       "<tr>\n",
       "  <th>Df Residuals:</th>          <td>  2825</td>      <th>  BIC:               </th> <td>   3720.</td>\n",
       "</tr>\n",
       "<tr>\n",
       "  <th>Df Model:</th>              <td>    12</td>      <th>                     </th>     <td> </td>   \n",
       "</tr>\n",
       "<tr>\n",
       "  <th>Covariance Type:</th>      <td>nonrobust</td>    <th>                     </th>     <td> </td>   \n",
       "</tr>\n",
       "</table>\n",
       "<table class=\"simpletable\">\n",
       "<tr>\n",
       "           <td></td>             <th>coef</th>     <th>std err</th>      <th>t</th>      <th>P>|t|</th>  <th>[0.025</th>    <th>0.975]</th>  \n",
       "</tr>\n",
       "<tr>\n",
       "  <th>const</th>              <td>   -0.0097</td> <td>    0.009</td> <td>   -1.107</td> <td> 0.268</td> <td>   -0.027</td> <td>    0.007</td>\n",
       "</tr>\n",
       "<tr>\n",
       "  <th>GrLivArea</th>          <td>    0.2958</td> <td>    0.020</td> <td>   15.129</td> <td> 0.000</td> <td>    0.257</td> <td>    0.334</td>\n",
       "</tr>\n",
       "<tr>\n",
       "  <th>TotalBsmtSF</th>        <td>    0.2757</td> <td>    0.012</td> <td>   23.306</td> <td> 0.000</td> <td>    0.252</td> <td>    0.299</td>\n",
       "</tr>\n",
       "<tr>\n",
       "  <th>FullBath</th>           <td>    0.1857</td> <td>    0.012</td> <td>   15.390</td> <td> 0.000</td> <td>    0.162</td> <td>    0.209</td>\n",
       "</tr>\n",
       "<tr>\n",
       "  <th>GarageCars</th>         <td>    0.1879</td> <td>    0.020</td> <td>    9.346</td> <td> 0.000</td> <td>    0.148</td> <td>    0.227</td>\n",
       "</tr>\n",
       "<tr>\n",
       "  <th>GarageYrBlt_1972.0</th> <td>    0.2302</td> <td>    0.091</td> <td>    2.544</td> <td> 0.011</td> <td>    0.053</td> <td>    0.408</td>\n",
       "</tr>\n",
       "<tr>\n",
       "  <th>Exterior2nd_Stucco</th> <td>    0.1357</td> <td>    0.068</td> <td>    1.987</td> <td> 0.047</td> <td>    0.002</td> <td>    0.270</td>\n",
       "</tr>\n",
       "<tr>\n",
       "  <th>HalfBath</th>           <td>    0.1283</td> <td>    0.010</td> <td>   12.493</td> <td> 0.000</td> <td>    0.108</td> <td>    0.148</td>\n",
       "</tr>\n",
       "<tr>\n",
       "  <th>TotRmsAbvGrd</th>       <td>   -0.0571</td> <td>    0.015</td> <td>   -3.696</td> <td> 0.000</td> <td>   -0.087</td> <td>   -0.027</td>\n",
       "</tr>\n",
       "<tr>\n",
       "  <th>BsmtFullBath</th>       <td>    0.0542</td> <td>    0.012</td> <td>    4.612</td> <td> 0.000</td> <td>    0.031</td> <td>    0.077</td>\n",
       "</tr>\n",
       "<tr>\n",
       "  <th>BsmtFinSF1</th>         <td>    0.0948</td> <td>    0.013</td> <td>    7.463</td> <td> 0.000</td> <td>    0.070</td> <td>    0.120</td>\n",
       "</tr>\n",
       "<tr>\n",
       "  <th>GarageArea</th>         <td>    0.0909</td> <td>    0.020</td> <td>    4.663</td> <td> 0.000</td> <td>    0.053</td> <td>    0.129</td>\n",
       "</tr>\n",
       "<tr>\n",
       "  <th>Fireplaces</th>         <td>    0.1101</td> <td>    0.010</td> <td>   10.935</td> <td> 0.000</td> <td>    0.090</td> <td>    0.130</td>\n",
       "</tr>\n",
       "</table>\n",
       "<table class=\"simpletable\">\n",
       "<tr>\n",
       "  <th>Omnibus:</th>       <td>584.331</td> <th>  Durbin-Watson:     </th> <td>   1.973</td>\n",
       "</tr>\n",
       "<tr>\n",
       "  <th>Prob(Omnibus):</th> <td> 0.000</td>  <th>  Jarque-Bera (JB):  </th> <td>1592.231</td>\n",
       "</tr>\n",
       "<tr>\n",
       "  <th>Skew:</th>          <td>-1.086</td>  <th>  Prob(JB):          </th> <td>    0.00</td>\n",
       "</tr>\n",
       "<tr>\n",
       "  <th>Kurtosis:</th>      <td> 5.957</td>  <th>  Cond. No.          </th> <td>    20.7</td>\n",
       "</tr>\n",
       "</table><br/><br/>Warnings:<br/>[1] Standard Errors assume that the covariance matrix of the errors is correctly specified."
      ],
      "text/plain": [
       "<class 'statsmodels.iolib.summary.Summary'>\n",
       "\"\"\"\n",
       "                            OLS Regression Results                            \n",
       "==============================================================================\n",
       "Dep. Variable:                      y   R-squared:                       0.790\n",
       "Model:                            OLS   Adj. R-squared:                  0.790\n",
       "Method:                 Least Squares   F-statistic:                     888.1\n",
       "Date:                Thu, 05 Aug 2021   Prob (F-statistic):               0.00\n",
       "Time:                        10:48:58   Log-Likelihood:                -1808.1\n",
       "No. Observations:                2838   AIC:                             3642.\n",
       "Df Residuals:                    2825   BIC:                             3720.\n",
       "Df Model:                          12                                         \n",
       "Covariance Type:            nonrobust                                         \n",
       "======================================================================================\n",
       "                         coef    std err          t      P>|t|      [0.025      0.975]\n",
       "--------------------------------------------------------------------------------------\n",
       "const                 -0.0097      0.009     -1.107      0.268      -0.027       0.007\n",
       "GrLivArea              0.2958      0.020     15.129      0.000       0.257       0.334\n",
       "TotalBsmtSF            0.2757      0.012     23.306      0.000       0.252       0.299\n",
       "FullBath               0.1857      0.012     15.390      0.000       0.162       0.209\n",
       "GarageCars             0.1879      0.020      9.346      0.000       0.148       0.227\n",
       "GarageYrBlt_1972.0     0.2302      0.091      2.544      0.011       0.053       0.408\n",
       "Exterior2nd_Stucco     0.1357      0.068      1.987      0.047       0.002       0.270\n",
       "HalfBath               0.1283      0.010     12.493      0.000       0.108       0.148\n",
       "TotRmsAbvGrd          -0.0571      0.015     -3.696      0.000      -0.087      -0.027\n",
       "BsmtFullBath           0.0542      0.012      4.612      0.000       0.031       0.077\n",
       "BsmtFinSF1             0.0948      0.013      7.463      0.000       0.070       0.120\n",
       "GarageArea             0.0909      0.020      4.663      0.000       0.053       0.129\n",
       "Fireplaces             0.1101      0.010     10.935      0.000       0.090       0.130\n",
       "==============================================================================\n",
       "Omnibus:                      584.331   Durbin-Watson:                   1.973\n",
       "Prob(Omnibus):                  0.000   Jarque-Bera (JB):             1592.231\n",
       "Skew:                          -1.086   Prob(JB):                         0.00\n",
       "Kurtosis:                       5.957   Cond. No.                         20.7\n",
       "==============================================================================\n",
       "\n",
       "Warnings:\n",
       "[1] Standard Errors assume that the covariance matrix of the errors is correctly specified.\n",
       "\"\"\""
      ]
     },
     "execution_count": 82,
     "metadata": {},
     "output_type": "execute_result"
    }
   ],
   "source": [
    "# Running model 6\n",
    "\n",
    "# Colecting x again, y is the same \n",
    "X= houses[feat_mod6]\n",
    "\n",
    "#creating constant with new values of X\n",
    "Xc= sm.add_constant(X)\n",
    "\n",
    "#running model 6\n",
    "model6_interpret= sm.OLS(y, Xc)\n",
    "model6 = model6_interpret.fit()\n",
    "\n",
    "#checking summary\n",
    "model6.summary()"
   ]
  },
  {
   "cell_type": "markdown",
   "metadata": {},
   "source": [
    "<strong> Next steps </strong>\n",
    "\n",
    "1. Make final model with predictions\n",
    "1. Unstandardize coefficients for interpretation\n",
    "2. Calculate coefficients exponential "
   ]
  },
  {
   "cell_type": "code",
   "execution_count": null,
   "metadata": {},
   "outputs": [],
   "source": []
  }
 ],
 "metadata": {
  "kernelspec": {
   "display_name": "Python 3",
   "language": "python",
   "name": "python3"
  },
  "language_info": {
   "codemirror_mode": {
    "name": "ipython",
    "version": 3
   },
   "file_extension": ".py",
   "mimetype": "text/x-python",
   "name": "python",
   "nbconvert_exporter": "python",
   "pygments_lexer": "ipython3",
   "version": "3.7.3"
  }
 },
 "nbformat": 4,
 "nbformat_minor": 2
}
