{
 "cells": [
  {
   "cell_type": "markdown",
   "metadata": {},
   "source": [
    "# Predicting House Prices"
   ]
  },
  {
   "cell_type": "markdown",
   "metadata": {},
   "source": [
    "## Objectives"
   ]
  },
  {
   "cell_type": "markdown",
   "metadata": {},
   "source": [
    "Predict sales prices of residential homes in Ames, Iowa. Practice feature engineering  and regression techiques. I am using the [Ames Housing dataset](https://www.kaggle.com/c/house-prices-advanced-regression-techniques/overview) available on Kaggle. "
   ]
  },
  {
   "cell_type": "code",
   "execution_count": 1,
   "metadata": {},
   "outputs": [
    {
     "name": "stderr",
     "output_type": "stream",
     "text": [
      "/Users/nataliablock/anaconda3/lib/python3.7/site-packages/statsmodels/tools/_testing.py:19: FutureWarning: pandas.util.testing is deprecated. Use the functions in the public API at pandas.testing instead.\n",
      "  import pandas.util.testing as tm\n",
      "/Users/nataliablock/anaconda3/lib/python3.7/site-packages/statsmodels/compat/pandas.py:23: FutureWarning: The Panel class is removed from pandas. Accessing it from the top-level namespace will also be removed in the next version\n",
      "  data_klasses = (pandas.Series, pandas.DataFrame, pandas.Panel)\n"
     ]
    }
   ],
   "source": [
    "import numpy as np\n",
    "import pandas as pd\n",
    "import matplotlib.pyplot as plt\n",
    "import matplotlib as mpl\n",
    "import seaborn as sns\n",
    "from scipy import stats\n",
    "from scipy.stats import pearsonr\n",
    "import statsmodels.api as sm\n",
    "from sklearn.linear_model import LinearRegression, LassoCV\n",
    "from sklearn.preprocessing import StandardScaler\n",
    "from sklearn.preprocessing import OrdinalEncoder\n",
    "from sklearn.model_selection import cross_val_score, train_test_split\n",
    "from sklearn.metrics import r2_score\n",
    "import warnings\n",
    "warnings.filterwarnings(\"ignore\")\n",
    "%matplotlib inline "
   ]
  },
  {
   "cell_type": "markdown",
   "metadata": {},
   "source": [
    "## Loading data"
   ]
  },
  {
   "cell_type": "code",
   "execution_count": 2,
   "metadata": {},
   "outputs": [],
   "source": [
    "#Loading train dataset\n",
    "train=pd.read_csv('train.csv')"
   ]
  },
  {
   "cell_type": "code",
   "execution_count": 3,
   "metadata": {},
   "outputs": [
    {
     "name": "stdout",
     "output_type": "stream",
     "text": [
      "\n",
      " Train dataset dimensions (1460, 81)\n",
      "<class 'pandas.core.frame.DataFrame'>\n",
      "RangeIndex: 1460 entries, 0 to 1459\n",
      "Data columns (total 81 columns):\n",
      " #   Column         Non-Null Count  Dtype  \n",
      "---  ------         --------------  -----  \n",
      " 0   Id             1460 non-null   int64  \n",
      " 1   MSSubClass     1460 non-null   int64  \n",
      " 2   MSZoning       1460 non-null   object \n",
      " 3   LotFrontage    1201 non-null   float64\n",
      " 4   LotArea        1460 non-null   int64  \n",
      " 5   Street         1460 non-null   object \n",
      " 6   Alley          91 non-null     object \n",
      " 7   LotShape       1460 non-null   object \n",
      " 8   LandContour    1460 non-null   object \n",
      " 9   Utilities      1460 non-null   object \n",
      " 10  LotConfig      1460 non-null   object \n",
      " 11  LandSlope      1460 non-null   object \n",
      " 12  Neighborhood   1460 non-null   object \n",
      " 13  Condition1     1460 non-null   object \n",
      " 14  Condition2     1460 non-null   object \n",
      " 15  BldgType       1460 non-null   object \n",
      " 16  HouseStyle     1460 non-null   object \n",
      " 17  OverallQual    1460 non-null   int64  \n",
      " 18  OverallCond    1460 non-null   int64  \n",
      " 19  YearBuilt      1460 non-null   int64  \n",
      " 20  YearRemodAdd   1460 non-null   int64  \n",
      " 21  RoofStyle      1460 non-null   object \n",
      " 22  RoofMatl       1460 non-null   object \n",
      " 23  Exterior1st    1460 non-null   object \n",
      " 24  Exterior2nd    1460 non-null   object \n",
      " 25  MasVnrType     1452 non-null   object \n",
      " 26  MasVnrArea     1452 non-null   float64\n",
      " 27  ExterQual      1460 non-null   object \n",
      " 28  ExterCond      1460 non-null   object \n",
      " 29  Foundation     1460 non-null   object \n",
      " 30  BsmtQual       1423 non-null   object \n",
      " 31  BsmtCond       1423 non-null   object \n",
      " 32  BsmtExposure   1422 non-null   object \n",
      " 33  BsmtFinType1   1423 non-null   object \n",
      " 34  BsmtFinSF1     1460 non-null   int64  \n",
      " 35  BsmtFinType2   1422 non-null   object \n",
      " 36  BsmtFinSF2     1460 non-null   int64  \n",
      " 37  BsmtUnfSF      1460 non-null   int64  \n",
      " 38  TotalBsmtSF    1460 non-null   int64  \n",
      " 39  Heating        1460 non-null   object \n",
      " 40  HeatingQC      1460 non-null   object \n",
      " 41  CentralAir     1460 non-null   object \n",
      " 42  Electrical     1459 non-null   object \n",
      " 43  1stFlrSF       1460 non-null   int64  \n",
      " 44  2ndFlrSF       1460 non-null   int64  \n",
      " 45  LowQualFinSF   1460 non-null   int64  \n",
      " 46  GrLivArea      1460 non-null   int64  \n",
      " 47  BsmtFullBath   1460 non-null   int64  \n",
      " 48  BsmtHalfBath   1460 non-null   int64  \n",
      " 49  FullBath       1460 non-null   int64  \n",
      " 50  HalfBath       1460 non-null   int64  \n",
      " 51  BedroomAbvGr   1460 non-null   int64  \n",
      " 52  KitchenAbvGr   1460 non-null   int64  \n",
      " 53  KitchenQual    1460 non-null   object \n",
      " 54  TotRmsAbvGrd   1460 non-null   int64  \n",
      " 55  Functional     1460 non-null   object \n",
      " 56  Fireplaces     1460 non-null   int64  \n",
      " 57  FireplaceQu    770 non-null    object \n",
      " 58  GarageType     1379 non-null   object \n",
      " 59  GarageYrBlt    1379 non-null   float64\n",
      " 60  GarageFinish   1379 non-null   object \n",
      " 61  GarageCars     1460 non-null   int64  \n",
      " 62  GarageArea     1460 non-null   int64  \n",
      " 63  GarageQual     1379 non-null   object \n",
      " 64  GarageCond     1379 non-null   object \n",
      " 65  PavedDrive     1460 non-null   object \n",
      " 66  WoodDeckSF     1460 non-null   int64  \n",
      " 67  OpenPorchSF    1460 non-null   int64  \n",
      " 68  EnclosedPorch  1460 non-null   int64  \n",
      " 69  3SsnPorch      1460 non-null   int64  \n",
      " 70  ScreenPorch    1460 non-null   int64  \n",
      " 71  PoolArea       1460 non-null   int64  \n",
      " 72  PoolQC         7 non-null      object \n",
      " 73  Fence          281 non-null    object \n",
      " 74  MiscFeature    54 non-null     object \n",
      " 75  MiscVal        1460 non-null   int64  \n",
      " 76  MoSold         1460 non-null   int64  \n",
      " 77  YrSold         1460 non-null   int64  \n",
      " 78  SaleType       1460 non-null   object \n",
      " 79  SaleCondition  1460 non-null   object \n",
      " 80  SalePrice      1460 non-null   int64  \n",
      "dtypes: float64(3), int64(35), object(43)\n",
      "memory usage: 924.0+ KB\n",
      "\n",
      " Columns info None\n"
     ]
    }
   ],
   "source": [
    "# Checking the train dataset\n",
    "\n",
    "print(\"\\n Train dataset dimensions\", train.shape)\n",
    "print(\"\\n Columns info\", train.info())"
   ]
  },
  {
   "cell_type": "markdown",
   "metadata": {},
   "source": [
    "This first look at the data shows that there are features with a lot of missing values. Comparing the data type in the dataset and the data description document we can see that a lot of the variables are classified wrongly in the dataset. Besides, categorical variables must be introduced to algorithms in a numeric value, not as labels. "
   ]
  },
  {
   "cell_type": "code",
   "execution_count": 4,
   "metadata": {},
   "outputs": [],
   "source": [
    "# Loading test dataset\n",
    "test=pd.read_csv('test.csv')"
   ]
  },
  {
   "cell_type": "code",
   "execution_count": 5,
   "metadata": {},
   "outputs": [
    {
     "name": "stdout",
     "output_type": "stream",
     "text": [
      "\n",
      " Test dataset dimensions (1459, 80)\n",
      "<class 'pandas.core.frame.DataFrame'>\n",
      "RangeIndex: 1459 entries, 0 to 1458\n",
      "Data columns (total 80 columns):\n",
      " #   Column         Non-Null Count  Dtype  \n",
      "---  ------         --------------  -----  \n",
      " 0   Id             1459 non-null   int64  \n",
      " 1   MSSubClass     1459 non-null   int64  \n",
      " 2   MSZoning       1455 non-null   object \n",
      " 3   LotFrontage    1232 non-null   float64\n",
      " 4   LotArea        1459 non-null   int64  \n",
      " 5   Street         1459 non-null   object \n",
      " 6   Alley          107 non-null    object \n",
      " 7   LotShape       1459 non-null   object \n",
      " 8   LandContour    1459 non-null   object \n",
      " 9   Utilities      1457 non-null   object \n",
      " 10  LotConfig      1459 non-null   object \n",
      " 11  LandSlope      1459 non-null   object \n",
      " 12  Neighborhood   1459 non-null   object \n",
      " 13  Condition1     1459 non-null   object \n",
      " 14  Condition2     1459 non-null   object \n",
      " 15  BldgType       1459 non-null   object \n",
      " 16  HouseStyle     1459 non-null   object \n",
      " 17  OverallQual    1459 non-null   int64  \n",
      " 18  OverallCond    1459 non-null   int64  \n",
      " 19  YearBuilt      1459 non-null   int64  \n",
      " 20  YearRemodAdd   1459 non-null   int64  \n",
      " 21  RoofStyle      1459 non-null   object \n",
      " 22  RoofMatl       1459 non-null   object \n",
      " 23  Exterior1st    1458 non-null   object \n",
      " 24  Exterior2nd    1458 non-null   object \n",
      " 25  MasVnrType     1443 non-null   object \n",
      " 26  MasVnrArea     1444 non-null   float64\n",
      " 27  ExterQual      1459 non-null   object \n",
      " 28  ExterCond      1459 non-null   object \n",
      " 29  Foundation     1459 non-null   object \n",
      " 30  BsmtQual       1415 non-null   object \n",
      " 31  BsmtCond       1414 non-null   object \n",
      " 32  BsmtExposure   1415 non-null   object \n",
      " 33  BsmtFinType1   1417 non-null   object \n",
      " 34  BsmtFinSF1     1458 non-null   float64\n",
      " 35  BsmtFinType2   1417 non-null   object \n",
      " 36  BsmtFinSF2     1458 non-null   float64\n",
      " 37  BsmtUnfSF      1458 non-null   float64\n",
      " 38  TotalBsmtSF    1458 non-null   float64\n",
      " 39  Heating        1459 non-null   object \n",
      " 40  HeatingQC      1459 non-null   object \n",
      " 41  CentralAir     1459 non-null   object \n",
      " 42  Electrical     1459 non-null   object \n",
      " 43  1stFlrSF       1459 non-null   int64  \n",
      " 44  2ndFlrSF       1459 non-null   int64  \n",
      " 45  LowQualFinSF   1459 non-null   int64  \n",
      " 46  GrLivArea      1459 non-null   int64  \n",
      " 47  BsmtFullBath   1457 non-null   float64\n",
      " 48  BsmtHalfBath   1457 non-null   float64\n",
      " 49  FullBath       1459 non-null   int64  \n",
      " 50  HalfBath       1459 non-null   int64  \n",
      " 51  BedroomAbvGr   1459 non-null   int64  \n",
      " 52  KitchenAbvGr   1459 non-null   int64  \n",
      " 53  KitchenQual    1458 non-null   object \n",
      " 54  TotRmsAbvGrd   1459 non-null   int64  \n",
      " 55  Functional     1457 non-null   object \n",
      " 56  Fireplaces     1459 non-null   int64  \n",
      " 57  FireplaceQu    729 non-null    object \n",
      " 58  GarageType     1383 non-null   object \n",
      " 59  GarageYrBlt    1381 non-null   float64\n",
      " 60  GarageFinish   1381 non-null   object \n",
      " 61  GarageCars     1458 non-null   float64\n",
      " 62  GarageArea     1458 non-null   float64\n",
      " 63  GarageQual     1381 non-null   object \n",
      " 64  GarageCond     1381 non-null   object \n",
      " 65  PavedDrive     1459 non-null   object \n",
      " 66  WoodDeckSF     1459 non-null   int64  \n",
      " 67  OpenPorchSF    1459 non-null   int64  \n",
      " 68  EnclosedPorch  1459 non-null   int64  \n",
      " 69  3SsnPorch      1459 non-null   int64  \n",
      " 70  ScreenPorch    1459 non-null   int64  \n",
      " 71  PoolArea       1459 non-null   int64  \n",
      " 72  PoolQC         3 non-null      object \n",
      " 73  Fence          290 non-null    object \n",
      " 74  MiscFeature    51 non-null     object \n",
      " 75  MiscVal        1459 non-null   int64  \n",
      " 76  MoSold         1459 non-null   int64  \n",
      " 77  YrSold         1459 non-null   int64  \n",
      " 78  SaleType       1458 non-null   object \n",
      " 79  SaleCondition  1459 non-null   object \n",
      "dtypes: float64(11), int64(26), object(43)\n",
      "memory usage: 912.0+ KB\n",
      "\n",
      " Columns info None\n"
     ]
    }
   ],
   "source": [
    "# Checking test dataset\n",
    "print('\\n Test dataset dimensions', test.shape)\n",
    "print(\"\\n Columns info\", test.info())"
   ]
  },
  {
   "cell_type": "markdown",
   "metadata": {},
   "source": [
    "The test dataset does not have the Sale Price features, meaning that this will have to be predicted. In this sense, I'll split the training data in train and test and I'll call this one as pred (prediction) dataset"
   ]
  },
  {
   "cell_type": "code",
   "execution_count": 6,
   "metadata": {},
   "outputs": [],
   "source": [
    "#renaming dataset\n",
    "pred=test"
   ]
  },
  {
   "cell_type": "markdown",
   "metadata": {},
   "source": [
    "## Data Wrangling"
   ]
  },
  {
   "cell_type": "markdown",
   "metadata": {},
   "source": [
    "Everything that I do in the training dataset will have to be done in the \n",
    "prediction dataset also.\n",
    "\n",
    "There are some categorial features that need to be transformed. Some appear as objects in the dataset; however there are cases in which a feature appears as numeric but it is actually categorical. Also, some of these categorical variables have NAs but they can be recoded as they contain important information. Finally, there are variables that have a LOT of categories. Some of them can be regrouped, others can't. Those that I believe that cannot be regrouped I'll leave as they are and see if it's worth using them during feature extraction.\n",
    "\n",
    "So here are the steps for the data wrangling:\n",
    "\n",
    "1. Recode features that are worth recoding;\n",
    "2. Transforming the categorical features"
   ]
  },
  {
   "cell_type": "markdown",
   "metadata": {},
   "source": [
    "<strong>Step 1: Recoding features</strong>"
   ]
  },
  {
   "cell_type": "code",
   "execution_count": 7,
   "metadata": {},
   "outputs": [
    {
     "name": "stdout",
     "output_type": "stream",
     "text": [
      "Count by category: Grvl    50\n",
      "Pave    41\n",
      "Name: Alley, dtype: int64\n",
      "\n",
      "Count of NAs: 1369\n"
     ]
    }
   ],
   "source": [
    "## Feature: Alley\n",
    "print('Count by category:',train['Alley'].value_counts())\n",
    "\n",
    "print('\\nCount of NAs:', train['Alley'].isnull().sum())"
   ]
  },
  {
   "cell_type": "code",
   "execution_count": 8,
   "metadata": {},
   "outputs": [],
   "source": [
    "#NA indicates that the house has no alley access. It is the bigger\n",
    "#'category', but the count is so big that the variable may have really \n",
    "#little variance. It probably won't be important for the model, but\n",
    "#I'll recode anyway and decide whether it will be included in the model\n",
    "#during feature extraction\n",
    "train['Alley']=train['Alley'].fillna('no_alley')\n",
    "pred['Alley']=pred['Alley'].fillna('no_alley')"
   ]
  },
  {
   "cell_type": "code",
   "execution_count": 9,
   "metadata": {},
   "outputs": [],
   "source": [
    "##Features: OverallQual & OverallCond. I'll regroup these variables.\n",
    "\n",
    "#Creating a dictionary with the recoding\n",
    "\n",
    "overall_dic={'OverallQual':{10:'excelent', 9:'excelent',8:'good',\n",
    "                           7:'good', 6:'above_average', 5:'average',\n",
    "                           4:'poor', 3:'poor', 2:'poor', 1:'poor'},\n",
    "            'OverallCond':{10:'excelent', 9:'excelent',8:'good',\n",
    "                           7:'good', 6:'above_average', 5:'average',\n",
    "                           4:'poor', 3:'poor', 2:'poor', 1:'poor'}}\n",
    "\n",
    "#replacing\n",
    "train=train.replace(overall_dic)\n",
    "pred=pred.replace(overall_dic)"
   ]
  },
  {
   "cell_type": "code",
   "execution_count": 10,
   "metadata": {},
   "outputs": [],
   "source": [
    "#Features: YearBuilt & YearRemodAdd. These variables go back to the\n",
    "# nineteenth and twentieth ceturies. I'll create categories for each of\n",
    "#them.\n",
    "\n",
    "#function to create groups\n",
    "def yearbuilt_group(year):\n",
    "    if year <= 1900:\n",
    "        return \"1900_or_older\"\n",
    "    elif 1900 < year <= 1950:\n",
    "        return \"1901-1950\"\n",
    "    elif 1950 < year < 1970:\n",
    "        return \"1951 - 1969\"\n",
    "    elif 1970 <= year < 2000:\n",
    "        return \"1970 - 1999\"\n",
    "    elif 2000<= year:\n",
    "        return \"2000's\"\n",
    "    \n",
    "    \n",
    "#applying the function\n",
    "train['YearBuilt']=train['YearBuilt'].apply(yearbuilt_group)\n",
    "pred['YearBuilt']=pred['YearBuilt'].apply(yearbuilt_group)"
   ]
  },
  {
   "cell_type": "code",
   "execution_count": 11,
   "metadata": {},
   "outputs": [],
   "source": [
    "#YearRemodAdd\n",
    "\n",
    "#function to code groups\n",
    "def yearremod_group(year):\n",
    "    if year < 1960:\n",
    "        return \"1950-1959\"\n",
    "    elif 1960 <= year < 1970:\n",
    "        return \"1760 - 1969\"\n",
    "    elif 1970 <= year < 1980:\n",
    "        return \"1970-1979\"\n",
    "    elif 1980 <= year < 1990:\n",
    "        return \"1980 - 1989\"\n",
    "    elif 1990 <= year < 2000:\n",
    "        return \"1990 - 1999\"\n",
    "    elif 2000<= year:\n",
    "        return \"2000's\"\n",
    "    \n",
    "#applying function\n",
    "train['YearRemodAdd']=train['YearRemodAdd'].apply(yearremod_group)\n",
    "pred['YearRemodAdd']=pred['YearRemodAdd'].apply(yearremod_group)"
   ]
  },
  {
   "cell_type": "code",
   "execution_count": 12,
   "metadata": {},
   "outputs": [],
   "source": [
    "#Features: BsmtQual, BsmtCond, BsmtExposure & BsmtFinType1. NAs\n",
    "#indicates that the house has no basement. I'll replace them to\n",
    "# a 'no basement' category\n",
    "\n",
    "for column in train[['BsmtQual','BsmtCond', 'BsmtExposure',\n",
    "                      'BsmtFinType1','BsmtFinType2']]:\n",
    "    train[column]=train[column].fillna('no_basement')\n",
    "    \n",
    "for column in pred[['BsmtQual','BsmtCond', 'BsmtExposure',\n",
    "                      'BsmtFinType1','BsmtFinType2']]:\n",
    "    pred[column]=pred[column].fillna('no_basement')\n",
    "    "
   ]
  },
  {
   "cell_type": "code",
   "execution_count": 13,
   "metadata": {},
   "outputs": [],
   "source": [
    "#Functional - there's not a lot of variance in this feature. Most cases\n",
    "#are categorized as \"Typical\". Minor and major deductions are in such\n",
    "# a small number that it's worth just grouping them all in one category\n",
    "#for deductions.\n",
    "\n",
    "#creating the dictionary\n",
    "deductions_dic={'Functional':{'Typ':'Typ', 'Min1':'deduc',\n",
    "                             'Min2':'deduc', 'Mod':'deduc',\n",
    "                             'Maj1':'deduc', 'Maj2':'deduc',\n",
    "                             'Sev':'Sev'}}\n",
    "#replacing\n",
    "train=train.replace(deductions_dic)\n",
    "pred=pred.replace(deductions_dic)"
   ]
  },
  {
   "cell_type": "code",
   "execution_count": 14,
   "metadata": {},
   "outputs": [],
   "source": [
    "## FireplaceQu: transforming NAs to category 'no_fireplace'\n",
    "\n",
    "train['FireplaceQu']=train['FireplaceQu'].fillna('no_fireplace')\n",
    "\n",
    "pred['FireplaceQu']=pred['FireplaceQu'].fillna('no_fireplace')"
   ]
  },
  {
   "cell_type": "code",
   "execution_count": 15,
   "metadata": {},
   "outputs": [],
   "source": [
    "#Creating a for loop to fill NAs on variables about garages. In these\n",
    "#cases NA indicates that there's no garage in the house.\n",
    "\n",
    "#Features:GarageType,GarageFinish,GarageQual,GarageCond\n",
    "\n",
    "for column in train[['GarageType','GarageFinish',\n",
    "                      'GarageQual','GarageCond']]:\n",
    "    train[column]=train[column].fillna('no_garage')\n",
    "    \n",
    "    \n",
    "for column in pred[['GarageType','GarageFinish',\n",
    "                      'GarageQual','GarageCond']]:\n",
    "    pred[column]=pred[column].fillna('no_garage')"
   ]
  },
  {
   "cell_type": "code",
   "execution_count": 16,
   "metadata": {},
   "outputs": [],
   "source": [
    "## Filling NAs for PoolQC, Fence, MiscFeature\n",
    "\n",
    "train['PoolQC']=train['PoolQC'].fillna('no_pool')\n",
    "pred['PoolQC']=pred['PoolQC'].fillna('no_pool')\n",
    "\n",
    "train['Fence']=train['Fence'].fillna('no_fence')\n",
    "pred['Fence']=pred['Fence'].fillna('no_fence')\n",
    "\n",
    "train['MiscFeature']=train['MiscFeature'].fillna('no_miscellaneous')\n",
    "pred['MiscFeature']=pred['MiscFeature'].fillna('no_miscellaneous')"
   ]
  },
  {
   "cell_type": "code",
   "execution_count": 17,
   "metadata": {},
   "outputs": [],
   "source": [
    "## Features that still have a lot of null cells: LotFrontage,\n",
    "#MasVnrType, MasVnrArea, GarageYrBlt.  \n",
    "\n",
    "#For LotFrontage I'll input the mean value of this variable\n",
    "\n",
    "#LotFrontage:\n",
    "mean_LotFrontage_train=train['LotFrontage'].mean()\n",
    "train['LotFrontage']=train['LotFrontage'].fillna(mean_LotFrontage_train)\n",
    "\n",
    "mean_LotFrontage_pred=pred['LotFrontage'].mean()\n",
    "pred['LotFrontage']=pred['LotFrontage'].fillna(mean_LotFrontage_pred)\n"
   ]
  },
  {
   "cell_type": "markdown",
   "metadata": {},
   "source": [
    "For MasVnrType, MasVnrArea and GarageYrBlt we actually have NAs, meaning that we don't have any information about what the missing values could be. I'll have to drop these cases. #Let's see how many NaN we still have in the dataset and what is the proportion of \n",
    "those cases."
   ]
  },
  {
   "cell_type": "code",
   "execution_count": 18,
   "metadata": {},
   "outputs": [
    {
     "name": "stdout",
     "output_type": "stream",
     "text": [
      "Is there any NAN in the train dataset? True\n",
      "How many? 98\n",
      "Is there any NAN in the pred dataset? True\n",
      "How many? 131\n"
     ]
    }
   ],
   "source": [
    "#Checking for NAN on the whole dataset\n",
    "print('Is there any NAN in the train dataset?', train.isnull().values.any())\n",
    "print(\"How many?\", train.isnull().sum().sum())\n",
    "\n",
    "print('Is there any NAN in the pred dataset?', pred.isnull().values.any())\n",
    "print('How many?', pred.isnull().sum().sum())"
   ]
  },
  {
   "cell_type": "code",
   "execution_count": 19,
   "metadata": {},
   "outputs": [
    {
     "name": "stdout",
     "output_type": "stream",
     "text": [
      "Length of train dataset 1460\n",
      "Length of pred dataset 1459\n"
     ]
    }
   ],
   "source": [
    "#Checking to see the length of both datasets\n",
    "\n",
    "print('Length of train dataset', len(train))\n",
    "print('Length of pred dataset', len(pred))"
   ]
  },
  {
   "cell_type": "code",
   "execution_count": 20,
   "metadata": {},
   "outputs": [
    {
     "name": "stdout",
     "output_type": "stream",
     "text": [
      "Proportion of NAN in the train dataset 6.71\n",
      "Proportion of NAN in the pred dataset 8.98\n"
     ]
    }
   ],
   "source": [
    "#Checking the proportion of NAN in each dataset\n",
    "print('Proportion of NAN in the train dataset',round(98*100/1460,2))\n",
    "print('Proportion of NAN in the pred dataset',round(131*100/1459,2))"
   ]
  },
  {
   "cell_type": "markdown",
   "metadata": {},
   "source": [
    "I won't lose a lot of information if I drop this cases. That's what I'll do."
   ]
  },
  {
   "cell_type": "code",
   "execution_count": 21,
   "metadata": {},
   "outputs": [],
   "source": [
    "#Dropping NAN\n",
    "train=train.dropna()\n",
    "pred=pred.dropna()"
   ]
  },
  {
   "cell_type": "code",
   "execution_count": 22,
   "metadata": {},
   "outputs": [],
   "source": [
    "#Features to be transformed as categoricals\n",
    "cat=['MSSubClass','MSZoning','Street', 'Alley','LotShape','LandContour',\n",
    "    'Utilities', 'LotConfig', 'LandSlope','Neighborhood','Condition1',\n",
    "    'Condition2','BldgType','HouseStyle', 'OverallQual', 'OverallCond',\n",
    "    'YearBuilt', 'YearRemodAdd','RoofStyle','Exterior1st','Exterior2nd',\n",
    "    'MasVnrType','ExterQual','ExterCond','Foundation','BsmtQual',\n",
    "    'BsmtCond','BsmtExposure','BsmtFinType2', 'Heating','HeatingQC',\n",
    "    'CentralAir','Electrical', 'KitchenQual','FireplaceQu','GarageType',\n",
    "    'GarageFinish','GarageQual','GarageCond','GarageYrBlt','PavedDrive',\n",
    "    'MoSold','YrSold','SaleType','SaleCondition','RoofMatl','BsmtFinType1',\n",
    "    'Functional', 'PoolQC','Fence','MiscFeature']"
   ]
  },
  {
   "cell_type": "code",
   "execution_count": 23,
   "metadata": {},
   "outputs": [],
   "source": [
    "#Saving a list of numeric features\n",
    "num=['LotFrontage','LotArea','MasVnrArea','BsmtFinSF1','BsmtFinSF2',\n",
    "    'BsmtUnfSF','TotalBsmtSF','1stFlrSF','2ndFlrSF','LowQualFinSF',\n",
    "    'GrLivArea','BsmtFullBath','BsmtHalfBath','FullBath','HalfBath',\n",
    "    'BedroomAbvGr','KitchenAbvGr','TotRmsAbvGrd','Fireplaces',\n",
    "    'GarageCars','GarageArea','WoodDeckSF','OpenPorchSF',\n",
    "    'EnclosedPorch','3SsnPorch','ScreenPorch','PoolArea','MiscVal']"
   ]
  },
  {
   "cell_type": "markdown",
   "metadata": {},
   "source": [
    "<strong>Step 2: Transforming categorical features</strong>"
   ]
  },
  {
   "cell_type": "code",
   "execution_count": 24,
   "metadata": {},
   "outputs": [],
   "source": [
    "# Iterate over the columns to change those that are categories\n",
    "for column in train[cat]:\n",
    "    train[column] = train[column].astype(\"category\")\n",
    "    \n",
    "for column in pred[cat]:\n",
    "    pred[column] = pred[column].astype(\"category\")"
   ]
  },
  {
   "cell_type": "markdown",
   "metadata": {},
   "source": [
    "## Exploratory Data Analysis (EDA)"
   ]
  },
  {
   "cell_type": "markdown",
   "metadata": {},
   "source": [
    "<strong>Dependent variable</strong>"
   ]
  },
  {
   "cell_type": "markdown",
   "metadata": {},
   "source": [
    "Verifying the distribution of the target variable"
   ]
  },
  {
   "cell_type": "code",
   "execution_count": 25,
   "metadata": {},
   "outputs": [
    {
     "data": {
      "text/plain": [
       "array([[<matplotlib.axes._subplots.AxesSubplot object at 0x7fe9de2bafd0>,\n",
       "        <matplotlib.axes._subplots.AxesSubplot object at 0x7fe9de262390>]],\n",
       "      dtype=object)"
      ]
     },
     "execution_count": 25,
     "metadata": {},
     "output_type": "execute_result"
    },
    {
     "data": {
      "image/png": "[encoded data removed]",
      "text/plain": [
       "<Figure size 432x288 with 2 Axes>"
      ]
     },
     "metadata": {
      "needs_background": "light"
     },
     "output_type": "display_data"
    }
   ],
   "source": [
    "#Comparing price and log of price. \n",
    "new_price = {'price':train[\"SalePrice\"], 'log(price + 1)':np.log1p(train['SalePrice'])}\n",
    "prices= pd.DataFrame(new_price)\n",
    "prices.hist()"
   ]
  },
  {
   "cell_type": "code",
   "execution_count": 26,
   "metadata": {},
   "outputs": [
    {
     "data": {
      "text/html": [
       "<div>\n",
       "<style scoped>\n",
       "    .dataframe tbody tr th:only-of-type {\n",
       "        vertical-align: middle;\n",
       "    }\n",
       "\n",
       "    .dataframe tbody tr th {\n",
       "        vertical-align: top;\n",
       "    }\n",
       "\n",
       "    .dataframe thead th {\n",
       "        text-align: right;\n",
       "    }\n",
       "</style>\n",
       "<table border=\"1\" class=\"dataframe\">\n",
       "  <thead>\n",
       "    <tr style=\"text-align: right;\">\n",
       "      <th></th>\n",
       "      <th>price</th>\n",
       "      <th>log(price + 1)</th>\n",
       "    </tr>\n",
       "  </thead>\n",
       "  <tbody>\n",
       "    <tr>\n",
       "      <th>count</th>\n",
       "      <td>1370.000000</td>\n",
       "      <td>1370.000000</td>\n",
       "    </tr>\n",
       "    <tr>\n",
       "      <th>mean</th>\n",
       "      <td>185194.797080</td>\n",
       "      <td>12.053761</td>\n",
       "    </tr>\n",
       "    <tr>\n",
       "      <th>std</th>\n",
       "      <td>78899.705642</td>\n",
       "      <td>0.380225</td>\n",
       "    </tr>\n",
       "    <tr>\n",
       "      <th>min</th>\n",
       "      <td>35311.000000</td>\n",
       "      <td>10.471978</td>\n",
       "    </tr>\n",
       "    <tr>\n",
       "      <th>25%</th>\n",
       "      <td>133925.000000</td>\n",
       "      <td>11.805043</td>\n",
       "    </tr>\n",
       "    <tr>\n",
       "      <th>50%</th>\n",
       "      <td>167000.000000</td>\n",
       "      <td>12.025755</td>\n",
       "    </tr>\n",
       "    <tr>\n",
       "      <th>75%</th>\n",
       "      <td>217875.000000</td>\n",
       "      <td>12.291681</td>\n",
       "    </tr>\n",
       "    <tr>\n",
       "      <th>max</th>\n",
       "      <td>755000.000000</td>\n",
       "      <td>13.534474</td>\n",
       "    </tr>\n",
       "  </tbody>\n",
       "</table>\n",
       "</div>"
      ],
      "text/plain": [
       "               price  log(price + 1)\n",
       "count    1370.000000     1370.000000\n",
       "mean   185194.797080       12.053761\n",
       "std     78899.705642        0.380225\n",
       "min     35311.000000       10.471978\n",
       "25%    133925.000000       11.805043\n",
       "50%    167000.000000       12.025755\n",
       "75%    217875.000000       12.291681\n",
       "max    755000.000000       13.534474"
      ]
     },
     "execution_count": 26,
     "metadata": {},
     "output_type": "execute_result"
    }
   ],
   "source": [
    "#Summarizing price and log of price\n",
    "prices.describe()"
   ]
  },
  {
   "cell_type": "markdown",
   "metadata": {},
   "source": [
    "Price is not normally distributed so I'll have to use the log of price since regression makes the assumption that the data have a gaussian distribution."
   ]
  },
  {
   "cell_type": "code",
   "execution_count": 27,
   "metadata": {},
   "outputs": [],
   "source": [
    "#Transforming SalePrice to log of SalePrice\n",
    "train[\"SalePrice\"] = np.log1p(train[\"SalePrice\"])"
   ]
  },
  {
   "cell_type": "markdown",
   "metadata": {},
   "source": [
    "<strong>Independent Variables</strong>"
   ]
  },
  {
   "cell_type": "markdown",
   "metadata": {},
   "source": [
    "Checking numeric variables for outliers"
   ]
  },
  {
   "cell_type": "code",
   "execution_count": 28,
   "metadata": {},
   "outputs": [],
   "source": [
    "#Creating separate dataset just with numeric features\n",
    "train_num=train[num]\n",
    "pred_num=train[num]"
   ]
  },
  {
   "cell_type": "code",
   "execution_count": 29,
   "metadata": {},
   "outputs": [
    {
     "data": {
      "image/png": "[encoded data removed]",
      "text/plain": [
       "<Figure size 432x288 with 1 Axes>"
      ]
     },
     "metadata": {
      "needs_background": "light"
     },
     "output_type": "display_data"
    },
    {
     "data": {
      "image/png": "[encoded data removed]",
      "text/plain": [
       "<Figure size 432x288 with 1 Axes>"
      ]
     },
     "metadata": {
      "needs_background": "light"
     },
     "output_type": "display_data"
    },
    {
     "data": {
      "image/png": "[encoded data removed]",
      "text/plain": [
       "<Figure size 432x288 with 1 Axes>"
      ]
     },
     "metadata": {
      "needs_background": "light"
     },
     "output_type": "display_data"
    },
    {
     "data": {
      "image/png": "[encoded data removed]",
      "text/plain": [
       "<Figure size 432x288 with 1 Axes>"
      ]
     },
     "metadata": {
      "needs_background": "light"
     },
     "output_type": "display_data"
    },
    {
     "data": {
      "image/png": "[encoded data removed]",
      "text/plain": [
       "<Figure size 432x288 with 1 Axes>"
      ]
     },
     "metadata": {
      "needs_background": "light"
     },
     "output_type": "display_data"
    },
    {
     "data": {
      "image/png": "[encoded data removed]",
      "text/plain": [
       "<Figure size 432x288 with 1 Axes>"
      ]
     },
     "metadata": {
      "needs_background": "light"
     },
     "output_type": "display_data"
    },
    {
     "data": {
      "image/png": "[encoded data removed]",
      "text/plain": [
       "<Figure size 432x288 with 1 Axes>"
      ]
     },
     "metadata": {
      "needs_background": "light"
     },
     "output_type": "display_data"
    },
    {
     "data": {
      "image/png": "[encoded data removed]",
      "text/plain": [
       "<Figure size 432x288 with 1 Axes>"
      ]
     },
     "metadata": {
      "needs_background": "light"
     },
     "output_type": "display_data"
    },
    {
     "data": {
      "image/png": "[encoded data removed]",
      "text/plain": [
       "<Figure size 432x288 with 1 Axes>"
      ]
     },
     "metadata": {
      "needs_background": "light"
     },
     "output_type": "display_data"
    },
    {
     "data": {
      "image/png": "[encoded data removed]",
      "text/plain": [
       "<Figure size 432x288 with 1 Axes>"
      ]
     },
     "metadata": {
      "needs_background": "light"
     },
     "output_type": "display_data"
    },
    {
     "data": {
      "image/png": "[encoded data removed]",
      "text/plain": [
       "<Figure size 432x288 with 1 Axes>"
      ]
     },
     "metadata": {
      "needs_background": "light"
     },
     "output_type": "display_data"
    },
    {
     "data": {
      "image/png": "[encoded data removed]",
      "text/plain": [
       "<Figure size 432x288 with 1 Axes>"
      ]
     },
     "metadata": {
      "needs_background": "light"
     },
     "output_type": "display_data"
    },
    {
     "data": {
      "image/png": "[encoded data removed]",
      "text/plain": [
       "<Figure size 432x288 with 1 Axes>"
      ]
     },
     "metadata": {
      "needs_background": "light"
     },
     "output_type": "display_data"
    },
    {
     "data": {
      "image/png": "[encoded data removed]",
      "text/plain": [
       "<Figure size 432x288 with 1 Axes>"
      ]
     },
     "metadata": {
      "needs_background": "light"
     },
     "output_type": "display_data"
    },
    {
     "data": {
      "image/png": "[encoded data removed]",
      "text/plain": [
       "<Figure size 432x288 with 1 Axes>"
      ]
     },
     "metadata": {
      "needs_background": "light"
     },
     "output_type": "display_data"
    },
    {
     "data": {
      "image/png": "[encoded data removed]",
      "text/plain": [
       "<Figure size 432x288 with 1 Axes>"
      ]
     },
     "metadata": {
      "needs_background": "light"
     },
     "output_type": "display_data"
    },
    {
     "data": {
      "image/png": "[encoded data removed]",
      "text/plain": [
       "<Figure size 432x288 with 1 Axes>"
      ]
     },
     "metadata": {
      "needs_background": "light"
     },
     "output_type": "display_data"
    },
    {
     "data": {
      "image/png": "[encoded data removed]",
      "text/plain": [
       "<Figure size 432x288 with 1 Axes>"
      ]
     },
     "metadata": {
      "needs_background": "light"
     },
     "output_type": "display_data"
    },
    {
     "data": {
      "image/png": "[encoded data removed]",
      "text/plain": [
       "<Figure size 432x288 with 1 Axes>"
      ]
     },
     "metadata": {
      "needs_background": "light"
     },
     "output_type": "display_data"
    },
    {
     "data": {
      "image/png": "[encoded data removed]",
      "text/plain": [
       "<Figure size 432x288 with 1 Axes>"
      ]
     },
     "metadata": {
      "needs_background": "light"
     },
     "output_type": "display_data"
    },
    {
     "data": {
      "image/png": "[encoded data removed]",
      "text/plain": [
       "<Figure size 432x288 with 1 Axes>"
      ]
     },
     "metadata": {
      "needs_background": "light"
     },
     "output_type": "display_data"
    },
    {
     "data": {
      "image/png": "[encoded data removed]",
      "text/plain": [
       "<Figure size 432x288 with 1 Axes>"
      ]
     },
     "metadata": {
      "needs_background": "light"
     },
     "output_type": "display_data"
    },
    {
     "data": {
      "image/png": "[encoded data removed]",
      "text/plain": [
       "<Figure size 432x288 with 1 Axes>"
      ]
     },
     "metadata": {
      "needs_background": "light"
     },
     "output_type": "display_data"
    },
    {
     "data": {
      "image/png": "[encoded data removed]",
      "text/plain": [
       "<Figure size 432x288 with 1 Axes>"
      ]
     },
     "metadata": {
      "needs_background": "light"
     },
     "output_type": "display_data"
    },
    {
     "data": {
      "image/png": "[encoded data removed]",
      "text/plain": [
       "<Figure size 432x288 with 1 Axes>"
      ]
     },
     "metadata": {
      "needs_background": "light"
     },
     "output_type": "display_data"
    },
    {
     "data": {
      "image/png": "[encoded data removed]",
      "text/plain": [
       "<Figure size 432x288 with 1 Axes>"
      ]
     },
     "metadata": {
      "needs_background": "light"
     },
     "output_type": "display_data"
    },
    {
     "data": {
      "image/png": "[encoded data removed]",
      "text/plain": [
       "<Figure size 432x288 with 1 Axes>"
      ]
     },
     "metadata": {
      "needs_background": "light"
     },
     "output_type": "display_data"
    },
    {
     "data": {
      "image/png": "[encoded data removed]",
      "text/plain": [
       "<Figure size 432x288 with 1 Axes>"
      ]
     },
     "metadata": {
      "needs_background": "light"
     },
     "output_type": "display_data"
    }
   ],
   "source": [
    "#For loop to create boxplots for all features so I can look for \n",
    "#outliers\n",
    "for columns in train_num:\n",
    "    plt.figure()\n",
    "    sns.boxplot(x=train_num[columns])"
   ]
  },
  {
   "cell_type": "code",
   "execution_count": 30,
   "metadata": {},
   "outputs": [],
   "source": [
    "#Taking off outliers\n",
    "train= train[train['LotFrontage']<300]\n",
    "train= train[train['LotArea']<100000]\n",
    "train= train[train['BsmtUnfSF']<2336]\n",
    "train= train[train['TotalBsmtSF']<5000]\n",
    "train= train[train['1stFlrSF']<4000]\n",
    "train= train[train['GrLivArea']<4000]\n",
    "\n",
    "pred= pred[pred['LotFrontage']<300]\n",
    "pred= pred[pred['LotArea']<100000]\n",
    "pred= pred[pred['BsmtUnfSF']<2336]\n",
    "pred= pred[pred['TotalBsmtSF']<5000]\n",
    "pred= pred[pred['1stFlrSF']<4000]\n",
    "pred= pred[pred['GrLivArea']<4000]"
   ]
  },
  {
   "cell_type": "markdown",
   "metadata": {},
   "source": [
    "## Feature Engineering and Selection"
   ]
  },
  {
   "cell_type": "markdown",
   "metadata": {},
   "source": [
    "I'll standardize the numeric features, which means subtracting the mean of each observation and then dividing by the standard deviation so I can have all features in the same scale. For the categorical feartures I'll do one-hot encoding for variables which the categories are independent from each other and transform to ordinal those that have categories that are related."
   ]
  },
  {
   "cell_type": "code",
   "execution_count": 31,
   "metadata": {},
   "outputs": [],
   "source": [
    "#Scaling numeric features\n",
    "scaler = StandardScaler() \n",
    "\n",
    "train[num]= pd.DataFrame(scaler.fit_transform(train[num]))\n",
    "pred[num]=pd.DataFrame(scaler.fit_transform(pred[num]))"
   ]
  },
  {
   "cell_type": "code",
   "execution_count": 32,
   "metadata": {},
   "outputs": [],
   "source": [
    "#Separating ordinal and nominal categorical variables\n",
    "\n",
    "cat_ordinal=['OverallQual','OverallCond','ExterQual','ExterCond',\n",
    "            'BsmtQual','BsmtCond','BsmtFinType1','BsmtFinType2',\n",
    "             'HeatingQC','KitchenQual','FireplaceQu','GarageQual',\n",
    "            'GarageCond','PoolQC']\n",
    "\n",
    "cat_nominal=[i for i in cat if i not in cat_ordinal]"
   ]
  },
  {
   "cell_type": "code",
   "execution_count": 33,
   "metadata": {},
   "outputs": [],
   "source": [
    "# defining ordinal encoding\n",
    "encoder_ord = OrdinalEncoder()\n",
    "\n",
    "# transforming data\n",
    "train[cat_ordinal]= pd.DataFrame(encoder_ord.fit_transform(train[cat_ordinal]))\n",
    "pred[cat_ordinal]= pd.DataFrame(encoder_ord.fit_transform(pred[cat_ordinal]))"
   ]
  },
  {
   "cell_type": "code",
   "execution_count": 34,
   "metadata": {},
   "outputs": [],
   "source": [
    "#One-hot encoding on nominal categorical features\n",
    "train= pd.get_dummies(train,columns=cat_nominal)\n",
    "pred= pd.get_dummies(pred,columns=cat_nominal)"
   ]
  },
  {
   "cell_type": "code",
   "execution_count": 35,
   "metadata": {},
   "outputs": [
    {
     "data": {
      "text/html": [
       "<div>\n",
       "<style scoped>\n",
       "    .dataframe tbody tr th:only-of-type {\n",
       "        vertical-align: middle;\n",
       "    }\n",
       "\n",
       "    .dataframe tbody tr th {\n",
       "        vertical-align: top;\n",
       "    }\n",
       "\n",
       "    .dataframe thead th {\n",
       "        text-align: right;\n",
       "    }\n",
       "</style>\n",
       "<table border=\"1\" class=\"dataframe\">\n",
       "  <thead>\n",
       "    <tr style=\"text-align: right;\">\n",
       "      <th></th>\n",
       "      <th>LotFrontage</th>\n",
       "      <th>LotArea</th>\n",
       "      <th>OverallQual</th>\n",
       "      <th>OverallCond</th>\n",
       "      <th>MasVnrArea</th>\n",
       "      <th>ExterQual</th>\n",
       "      <th>ExterCond</th>\n",
       "      <th>BsmtQual</th>\n",
       "      <th>BsmtCond</th>\n",
       "      <th>BsmtFinType1</th>\n",
       "      <th>...</th>\n",
       "      <th>Functional_deduc</th>\n",
       "      <th>Fence_GdPrv</th>\n",
       "      <th>Fence_GdWo</th>\n",
       "      <th>Fence_MnPrv</th>\n",
       "      <th>Fence_MnWw</th>\n",
       "      <th>Fence_no_fence</th>\n",
       "      <th>MiscFeature_Gar2</th>\n",
       "      <th>MiscFeature_Othr</th>\n",
       "      <th>MiscFeature_Shed</th>\n",
       "      <th>MiscFeature_no_miscellaneous</th>\n",
       "    </tr>\n",
       "  </thead>\n",
       "  <tbody>\n",
       "    <tr>\n",
       "      <th>0</th>\n",
       "      <td>0.551004</td>\n",
       "      <td>0.401507</td>\n",
       "      <td>1.0</td>\n",
       "      <td>0.0</td>\n",
       "      <td>-0.587549</td>\n",
       "      <td>3.0</td>\n",
       "      <td>4.0</td>\n",
       "      <td>3.0</td>\n",
       "      <td>3.0</td>\n",
       "      <td>4.0</td>\n",
       "      <td>...</td>\n",
       "      <td>0</td>\n",
       "      <td>0</td>\n",
       "      <td>0</td>\n",
       "      <td>1</td>\n",
       "      <td>0</td>\n",
       "      <td>0</td>\n",
       "      <td>0</td>\n",
       "      <td>0</td>\n",
       "      <td>0</td>\n",
       "      <td>1</td>\n",
       "    </tr>\n",
       "    <tr>\n",
       "      <th>1</th>\n",
       "      <td>0.600113</td>\n",
       "      <td>0.976733</td>\n",
       "      <td>0.0</td>\n",
       "      <td>0.0</td>\n",
       "      <td>0.016562</td>\n",
       "      <td>3.0</td>\n",
       "      <td>4.0</td>\n",
       "      <td>3.0</td>\n",
       "      <td>3.0</td>\n",
       "      <td>0.0</td>\n",
       "      <td>...</td>\n",
       "      <td>0</td>\n",
       "      <td>0</td>\n",
       "      <td>0</td>\n",
       "      <td>0</td>\n",
       "      <td>0</td>\n",
       "      <td>1</td>\n",
       "      <td>1</td>\n",
       "      <td>0</td>\n",
       "      <td>0</td>\n",
       "      <td>0</td>\n",
       "    </tr>\n",
       "    <tr>\n",
       "      <th>2</th>\n",
       "      <td>0.256349</td>\n",
       "      <td>0.881695</td>\n",
       "      <td>1.0</td>\n",
       "      <td>1.0</td>\n",
       "      <td>-0.587549</td>\n",
       "      <td>3.0</td>\n",
       "      <td>4.0</td>\n",
       "      <td>2.0</td>\n",
       "      <td>3.0</td>\n",
       "      <td>2.0</td>\n",
       "      <td>...</td>\n",
       "      <td>0</td>\n",
       "      <td>0</td>\n",
       "      <td>0</td>\n",
       "      <td>1</td>\n",
       "      <td>0</td>\n",
       "      <td>0</td>\n",
       "      <td>0</td>\n",
       "      <td>0</td>\n",
       "      <td>0</td>\n",
       "      <td>1</td>\n",
       "    </tr>\n",
       "    <tr>\n",
       "      <th>3</th>\n",
       "      <td>0.452785</td>\n",
       "      <td>0.043976</td>\n",
       "      <td>0.0</td>\n",
       "      <td>0.0</td>\n",
       "      <td>-0.475677</td>\n",
       "      <td>3.0</td>\n",
       "      <td>4.0</td>\n",
       "      <td>3.0</td>\n",
       "      <td>3.0</td>\n",
       "      <td>2.0</td>\n",
       "      <td>...</td>\n",
       "      <td>0</td>\n",
       "      <td>0</td>\n",
       "      <td>0</td>\n",
       "      <td>0</td>\n",
       "      <td>0</td>\n",
       "      <td>1</td>\n",
       "      <td>0</td>\n",
       "      <td>0</td>\n",
       "      <td>0</td>\n",
       "      <td>1</td>\n",
       "    </tr>\n",
       "    <tr>\n",
       "      <th>4</th>\n",
       "      <td>-1.266036</td>\n",
       "      <td>-1.037535</td>\n",
       "      <td>3.0</td>\n",
       "      <td>1.0</td>\n",
       "      <td>-0.587549</td>\n",
       "      <td>2.0</td>\n",
       "      <td>4.0</td>\n",
       "      <td>2.0</td>\n",
       "      <td>3.0</td>\n",
       "      <td>0.0</td>\n",
       "      <td>...</td>\n",
       "      <td>0</td>\n",
       "      <td>0</td>\n",
       "      <td>0</td>\n",
       "      <td>0</td>\n",
       "      <td>0</td>\n",
       "      <td>1</td>\n",
       "      <td>0</td>\n",
       "      <td>0</td>\n",
       "      <td>0</td>\n",
       "      <td>1</td>\n",
       "    </tr>\n",
       "    <tr>\n",
       "      <th>...</th>\n",
       "      <td>...</td>\n",
       "      <td>...</td>\n",
       "      <td>...</td>\n",
       "      <td>...</td>\n",
       "      <td>...</td>\n",
       "      <td>...</td>\n",
       "      <td>...</td>\n",
       "      <td>...</td>\n",
       "      <td>...</td>\n",
       "      <td>...</td>\n",
       "      <td>...</td>\n",
       "      <td>...</td>\n",
       "      <td>...</td>\n",
       "      <td>...</td>\n",
       "      <td>...</td>\n",
       "      <td>...</td>\n",
       "      <td>...</td>\n",
       "      <td>...</td>\n",
       "      <td>...</td>\n",
       "      <td>...</td>\n",
       "      <td>...</td>\n",
       "    </tr>\n",
       "    <tr>\n",
       "      <th>1451</th>\n",
       "      <td>NaN</td>\n",
       "      <td>NaN</td>\n",
       "      <td>NaN</td>\n",
       "      <td>NaN</td>\n",
       "      <td>NaN</td>\n",
       "      <td>NaN</td>\n",
       "      <td>NaN</td>\n",
       "      <td>NaN</td>\n",
       "      <td>NaN</td>\n",
       "      <td>NaN</td>\n",
       "      <td>...</td>\n",
       "      <td>0</td>\n",
       "      <td>0</td>\n",
       "      <td>0</td>\n",
       "      <td>0</td>\n",
       "      <td>0</td>\n",
       "      <td>1</td>\n",
       "      <td>0</td>\n",
       "      <td>0</td>\n",
       "      <td>0</td>\n",
       "      <td>1</td>\n",
       "    </tr>\n",
       "    <tr>\n",
       "      <th>1452</th>\n",
       "      <td>NaN</td>\n",
       "      <td>NaN</td>\n",
       "      <td>NaN</td>\n",
       "      <td>NaN</td>\n",
       "      <td>NaN</td>\n",
       "      <td>NaN</td>\n",
       "      <td>NaN</td>\n",
       "      <td>NaN</td>\n",
       "      <td>NaN</td>\n",
       "      <td>NaN</td>\n",
       "      <td>...</td>\n",
       "      <td>0</td>\n",
       "      <td>0</td>\n",
       "      <td>0</td>\n",
       "      <td>0</td>\n",
       "      <td>0</td>\n",
       "      <td>1</td>\n",
       "      <td>0</td>\n",
       "      <td>0</td>\n",
       "      <td>0</td>\n",
       "      <td>1</td>\n",
       "    </tr>\n",
       "    <tr>\n",
       "      <th>1455</th>\n",
       "      <td>NaN</td>\n",
       "      <td>NaN</td>\n",
       "      <td>NaN</td>\n",
       "      <td>NaN</td>\n",
       "      <td>NaN</td>\n",
       "      <td>NaN</td>\n",
       "      <td>NaN</td>\n",
       "      <td>NaN</td>\n",
       "      <td>NaN</td>\n",
       "      <td>NaN</td>\n",
       "      <td>...</td>\n",
       "      <td>0</td>\n",
       "      <td>0</td>\n",
       "      <td>0</td>\n",
       "      <td>0</td>\n",
       "      <td>0</td>\n",
       "      <td>1</td>\n",
       "      <td>0</td>\n",
       "      <td>0</td>\n",
       "      <td>0</td>\n",
       "      <td>1</td>\n",
       "    </tr>\n",
       "    <tr>\n",
       "      <th>1456</th>\n",
       "      <td>NaN</td>\n",
       "      <td>NaN</td>\n",
       "      <td>NaN</td>\n",
       "      <td>NaN</td>\n",
       "      <td>NaN</td>\n",
       "      <td>NaN</td>\n",
       "      <td>NaN</td>\n",
       "      <td>NaN</td>\n",
       "      <td>NaN</td>\n",
       "      <td>NaN</td>\n",
       "      <td>...</td>\n",
       "      <td>0</td>\n",
       "      <td>0</td>\n",
       "      <td>0</td>\n",
       "      <td>0</td>\n",
       "      <td>0</td>\n",
       "      <td>1</td>\n",
       "      <td>0</td>\n",
       "      <td>0</td>\n",
       "      <td>0</td>\n",
       "      <td>1</td>\n",
       "    </tr>\n",
       "    <tr>\n",
       "      <th>1458</th>\n",
       "      <td>NaN</td>\n",
       "      <td>NaN</td>\n",
       "      <td>NaN</td>\n",
       "      <td>NaN</td>\n",
       "      <td>NaN</td>\n",
       "      <td>NaN</td>\n",
       "      <td>NaN</td>\n",
       "      <td>NaN</td>\n",
       "      <td>NaN</td>\n",
       "      <td>NaN</td>\n",
       "      <td>...</td>\n",
       "      <td>0</td>\n",
       "      <td>0</td>\n",
       "      <td>0</td>\n",
       "      <td>0</td>\n",
       "      <td>0</td>\n",
       "      <td>1</td>\n",
       "      <td>0</td>\n",
       "      <td>0</td>\n",
       "      <td>0</td>\n",
       "      <td>1</td>\n",
       "    </tr>\n",
       "  </tbody>\n",
       "</table>\n",
       "<p>1355 rows × 356 columns</p>\n",
       "</div>"
      ],
      "text/plain": [
       "      LotFrontage   LotArea  OverallQual  OverallCond  MasVnrArea  ExterQual  \\\n",
       "0        0.551004  0.401507          1.0          0.0   -0.587549        3.0   \n",
       "1        0.600113  0.976733          0.0          0.0    0.016562        3.0   \n",
       "2        0.256349  0.881695          1.0          1.0   -0.587549        3.0   \n",
       "3        0.452785  0.043976          0.0          0.0   -0.475677        3.0   \n",
       "4       -1.266036 -1.037535          3.0          1.0   -0.587549        2.0   \n",
       "...           ...       ...          ...          ...         ...        ...   \n",
       "1451          NaN       NaN          NaN          NaN         NaN        NaN   \n",
       "1452          NaN       NaN          NaN          NaN         NaN        NaN   \n",
       "1455          NaN       NaN          NaN          NaN         NaN        NaN   \n",
       "1456          NaN       NaN          NaN          NaN         NaN        NaN   \n",
       "1458          NaN       NaN          NaN          NaN         NaN        NaN   \n",
       "\n",
       "      ExterCond  BsmtQual  BsmtCond  BsmtFinType1  ...  Functional_deduc  \\\n",
       "0           4.0       3.0       3.0           4.0  ...                 0   \n",
       "1           4.0       3.0       3.0           0.0  ...                 0   \n",
       "2           4.0       2.0       3.0           2.0  ...                 0   \n",
       "3           4.0       3.0       3.0           2.0  ...                 0   \n",
       "4           4.0       2.0       3.0           0.0  ...                 0   \n",
       "...         ...       ...       ...           ...  ...               ...   \n",
       "1451        NaN       NaN       NaN           NaN  ...                 0   \n",
       "1452        NaN       NaN       NaN           NaN  ...                 0   \n",
       "1455        NaN       NaN       NaN           NaN  ...                 0   \n",
       "1456        NaN       NaN       NaN           NaN  ...                 0   \n",
       "1458        NaN       NaN       NaN           NaN  ...                 0   \n",
       "\n",
       "      Fence_GdPrv  Fence_GdWo  Fence_MnPrv  Fence_MnWw  Fence_no_fence  \\\n",
       "0               0           0            1           0               0   \n",
       "1               0           0            0           0               1   \n",
       "2               0           0            1           0               0   \n",
       "3               0           0            0           0               1   \n",
       "4               0           0            0           0               1   \n",
       "...           ...         ...          ...         ...             ...   \n",
       "1451            0           0            0           0               1   \n",
       "1452            0           0            0           0               1   \n",
       "1455            0           0            0           0               1   \n",
       "1456            0           0            0           0               1   \n",
       "1458            0           0            0           0               1   \n",
       "\n",
       "      MiscFeature_Gar2  MiscFeature_Othr  MiscFeature_Shed  \\\n",
       "0                    0                 0                 0   \n",
       "1                    1                 0                 0   \n",
       "2                    0                 0                 0   \n",
       "3                    0                 0                 0   \n",
       "4                    0                 0                 0   \n",
       "...                ...               ...               ...   \n",
       "1451                 0                 0                 0   \n",
       "1452                 0                 0                 0   \n",
       "1455                 0                 0                 0   \n",
       "1456                 0                 0                 0   \n",
       "1458                 0                 0                 0   \n",
       "\n",
       "      MiscFeature_no_miscellaneous  \n",
       "0                                1  \n",
       "1                                0  \n",
       "2                                1  \n",
       "3                                1  \n",
       "4                                1  \n",
       "...                            ...  \n",
       "1451                             1  \n",
       "1452                             1  \n",
       "1455                             1  \n",
       "1456                             1  \n",
       "1458                             1  \n",
       "\n",
       "[1355 rows x 356 columns]"
      ]
     },
     "execution_count": 35,
     "metadata": {},
     "output_type": "execute_result"
    }
   ],
   "source": [
    "#Dropping columns Id\n",
    "train.drop(['Id'], axis=1)\n",
    "pred.drop(['Id'], axis=1)"
   ]
  },
  {
   "cell_type": "markdown",
   "metadata": {},
   "source": [
    "The encoders result on some NAN that I'll have to drop. After dropping I'll check how much of the original datasets I'll still have."
   ]
  },
  {
   "cell_type": "code",
   "execution_count": 36,
   "metadata": {},
   "outputs": [],
   "source": [
    "#Dropping NAN\n",
    "train=train.dropna()\n",
    "pred=pred.dropna()"
   ]
  },
  {
   "cell_type": "code",
   "execution_count": 37,
   "metadata": {},
   "outputs": [
    {
     "name": "stdout",
     "output_type": "stream",
     "text": [
      "Length of train dataset 1265\n",
      "Length of pred dataset 1263\n"
     ]
    }
   ],
   "source": [
    "#Checking to see the length of both datasets\n",
    "\n",
    "print('Length of train dataset', len(train))\n",
    "print('Length of pred dataset', len(pred))"
   ]
  },
  {
   "cell_type": "code",
   "execution_count": 38,
   "metadata": {},
   "outputs": [
    {
     "name": "stdout",
     "output_type": "stream",
     "text": [
      "Proportion of original trainnig data after dropping NA 86.64\n",
      "Proportion of original prediction data after dropping NA 86.57\n"
     ]
    }
   ],
   "source": [
    "#Checking for the proportion of the original data \n",
    "print('Proportion of original trainnig data after dropping NA', round(1265*100/1460,2))\n",
    "print('Proportion of original prediction data after dropping NA', round(1263*100/1459,2))"
   ]
  },
  {
   "cell_type": "code",
   "execution_count": 39,
   "metadata": {},
   "outputs": [],
   "source": [
    "#Defining X and y\n",
    "X=train.loc[:, train.columns != 'SalePrice']\n",
    "y=train['SalePrice']"
   ]
  },
  {
   "cell_type": "code",
   "execution_count": 40,
   "metadata": {},
   "outputs": [
    {
     "name": "stdout",
     "output_type": "stream",
     "text": [
      "X_train : (885, 378)\n",
      "X_test : (380, 378)\n",
      "y_train : (885,)\n",
      "y_test : (380,)\n"
     ]
    }
   ],
   "source": [
    "# Partitioning the dataset in train + test sets\n",
    "X_train, X_test, y_train, y_test = train_test_split(X,y,test_size = 0.3, random_state = 0)\n",
    "print(\"X_train : \" + str(X_train.shape))\n",
    "print(\"X_test : \" + str(X_test.shape))\n",
    "print(\"y_train : \" + str(y_train.shape))\n",
    "print(\"y_test : \" + str(y_test.shape))"
   ]
  },
  {
   "cell_type": "markdown",
   "metadata": {},
   "source": [
    "<strong> Model 1: Lasso Regression </strong>"
   ]
  },
  {
   "cell_type": "code",
   "execution_count": 41,
   "metadata": {},
   "outputs": [],
   "source": [
    "# Creating LASSO model with the complete datasets\n",
    "model1 = LassoCV(alphas = [1, 0.1, 0.001, 0.0005]).fit(X_train, y_train)"
   ]
  },
  {
   "cell_type": "code",
   "execution_count": 42,
   "metadata": {},
   "outputs": [
    {
     "data": {
      "text/plain": [
       "0.7623737929332053"
      ]
     },
     "execution_count": 42,
     "metadata": {},
     "output_type": "execute_result"
    }
   ],
   "source": [
    "#R2 of lasso model\n",
    "r2_score(y_test, model1.predict(X_test))"
   ]
  },
  {
   "cell_type": "code",
   "execution_count": 43,
   "metadata": {},
   "outputs": [
    {
     "data": {
      "text/html": [
       "<div>\n",
       "<style scoped>\n",
       "    .dataframe tbody tr th:only-of-type {\n",
       "        vertical-align: middle;\n",
       "    }\n",
       "\n",
       "    .dataframe tbody tr th {\n",
       "        vertical-align: top;\n",
       "    }\n",
       "\n",
       "    .dataframe thead th {\n",
       "        text-align: right;\n",
       "    }\n",
       "</style>\n",
       "<table border=\"1\" class=\"dataframe\">\n",
       "  <thead>\n",
       "    <tr style=\"text-align: right;\">\n",
       "      <th></th>\n",
       "      <th>mod1_coefficients</th>\n",
       "    </tr>\n",
       "  </thead>\n",
       "  <tbody>\n",
       "    <tr>\n",
       "      <th>Id</th>\n",
       "      <td>-0.000016</td>\n",
       "    </tr>\n",
       "    <tr>\n",
       "      <th>LotFrontage</th>\n",
       "      <td>0.007173</td>\n",
       "    </tr>\n",
       "    <tr>\n",
       "      <th>LotArea</th>\n",
       "      <td>0.013850</td>\n",
       "    </tr>\n",
       "    <tr>\n",
       "      <th>OverallQual</th>\n",
       "      <td>-0.002736</td>\n",
       "    </tr>\n",
       "    <tr>\n",
       "      <th>OverallCond</th>\n",
       "      <td>-0.004473</td>\n",
       "    </tr>\n",
       "  </tbody>\n",
       "</table>\n",
       "</div>"
      ],
      "text/plain": [
       "             mod1_coefficients\n",
       "Id                   -0.000016\n",
       "LotFrontage           0.007173\n",
       "LotArea               0.013850\n",
       "OverallQual          -0.002736\n",
       "OverallCond          -0.004473"
      ]
     },
     "execution_count": 43,
     "metadata": {},
     "output_type": "execute_result"
    }
   ],
   "source": [
    "#Lasso model coeficients\n",
    "coef_mod1 = pd.DataFrame(model1.coef_, index = X_train.columns, \n",
    "                         columns=['mod1_coefficients'])\n",
    "coef_mod1.head()"
   ]
  },
  {
   "cell_type": "code",
   "execution_count": 44,
   "metadata": {},
   "outputs": [],
   "source": [
    "#feature names\n",
    "features=X_train.columns"
   ]
  },
  {
   "cell_type": "code",
   "execution_count": 45,
   "metadata": {},
   "outputs": [],
   "source": [
    "#saving array with the absolute number of the coeficients\n",
    "importance_mod1=np.abs(model1.coef_)"
   ]
  },
  {
   "cell_type": "code",
   "execution_count": 46,
   "metadata": {},
   "outputs": [],
   "source": [
    "#features that survived Lasso regression:\n",
    "lasso_feat=np.array(features)[importance_mod1!=0]"
   ]
  },
  {
   "cell_type": "code",
   "execution_count": 47,
   "metadata": {},
   "outputs": [
    {
     "data": {
      "text/plain": [
       "125"
      ]
     },
     "execution_count": 47,
     "metadata": {},
     "output_type": "execute_result"
    }
   ],
   "source": [
    "#How many features survived the lasso regression?\n",
    "len(lasso_feat)"
   ]
  }
 ],
 "metadata": {
  "kernelspec": {
   "display_name": "Python 3",
   "language": "python",
   "name": "python3"
  },
  "language_info": {
   "codemirror_mode": {
    "name": "ipython",
    "version": 3
   },
   "file_extension": ".py",
   "mimetype": "text/x-python",
   "name": "python",
   "nbconvert_exporter": "python",
   "pygments_lexer": "ipython3",
   "version": "3.7.3"
  }
 },
 "nbformat": 4,
 "nbformat_minor": 2
}
